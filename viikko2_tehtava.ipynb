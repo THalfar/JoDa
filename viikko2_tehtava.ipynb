{
 "cells": [
  {
   "cell_type": "code",
   "execution_count": null,
   "metadata": {},
   "outputs": [],
   "source": [
    "# Ladataan tarvittavat kirjastot\n",
    "import pandas as pd \n",
    "import numpy as np \n",
    "from sklearn.impute import SimpleImputer\n",
    "from sklearn import preprocessing\n",
    "import matplotlib.pyplot as plt\n",
    "import seaborn as sns\n",
    "import os "
   ]
  },
  {
   "cell_type": "code",
   "execution_count": null,
   "metadata": {},
   "outputs": [],
   "source": [
    "# Haetaan airbnb data ja tallennetaan se csv-tiedostoon\n",
    "if os.path.exists('abnd_listings.csv'):\n",
    "    df = pd.read_csv('abnd_listings.csv')\n",
    "else:\n",
    "    df = pd.read_csv('https://raw.githubusercontent.com/InfoTUNI/joda2022/master/koodiesimerkit/data.csv')\n",
    "    df.to_csv('abnd_listings.csv')"
   ]
  },
  {
   "cell_type": "code",
   "execution_count": null,
   "metadata": {},
   "outputs": [],
   "source": [
    "# Tarkastellaan dataa\n",
    "df.info() # Tietojen tyypit \n",
    "pd.set_option('display.max_columns', None) # Muutetaan Panda:n asetusta, jotta kaikki sarakkeet näkyvät\n",
    "df.head() # Näytetään viisi ensimmäistä riviä"
   ]
  },
  {
   "cell_type": "code",
   "execution_count": null,
   "metadata": {},
   "outputs": [],
   "source": [
    "# Tarkastellaan aluksi tyhjien kenttien määriä\n",
    "missing_values_count = df.isnull().sum()\n",
    "missing_values_count = missing_values_count[missing_values_count > 0] # Näytetään vain ne sarakkeet, joissa on tyhjiä arvoja\n",
    "print(f\"Missing values count : \\n{missing_values_count}\") # Tulostetaan tyhjien kenttien määrät"
   ]
  },
  {
   "cell_type": "code",
   "execution_count": null,
   "metadata": {},
   "outputs": [],
   "source": [
    "# Tarkastellaan tyhjiä arvoja sisältävien sarakkeiden suhteellista osuutta\n",
    "missing_values_percent = (missing_values_count / (df.shape[0])) * 100\n",
    "print(f\"Missing values percent : \\n{missing_values_percent}\") # Tulostetaan tyhjien kenttien suhteelliset osuudet\n"
   ]
  },
  {
   "cell_type": "code",
   "execution_count": null,
   "metadata": {},
   "outputs": [],
   "source": [
    "# Visualisoidaan tyhjien arvojen suhteelliset osuudet kasvavaan järjestykseen \n",
    "\n",
    "missing_values_percent = missing_values_percent.sort_values() # Järjestellään kasvavaan järjestykseen\n",
    "\n",
    "# Visualisointi \n",
    "sns.set_theme(style=\"whitegrid\")\n",
    "plt.figure(figsize=(10, 15))  # Säädä kokoa tarpeen mukaan\n",
    "sns.barplot(x=missing_values_percent, y=missing_values_percent.index)\n",
    "plt.title('Puuttuvien arvojen prosenttiosuus sarakkeittain')\n",
    "plt.xlabel('Prosenttiosuus (%)')\n",
    "plt.ylabel('Sarakkeet')\n",
    "plt.show()"
   ]
  },
  {
   "cell_type": "code",
   "execution_count": null,
   "metadata": {},
   "outputs": [],
   "source": [
    "# Poistetaan datasta ne sarakkeet joissa yli 50% tyhjiä arvoja \n",
    "index_null_over_50 = missing_values_percent[missing_values_percent > 50].index\n",
    "df_cleaned = df.drop(index_null_over_50, axis=1) \n",
    "\n",
    "# Tarkastellaan uutta dataa\n",
    "df_cleaned.info()   "
   ]
  },
  {
   "cell_type": "code",
   "execution_count": null,
   "metadata": {},
   "outputs": [],
   "source": [
    "# Otetaan datasta osajoukko joka sisältää erillaisia datatyyppejä harjoitusta varten joissa tyhjiä arvoja\n",
    "\n",
    "df_subset = df_cleaned[['host_response_time', 'host_response_rate', 'review_scores_rating']]\n",
    "df_subset.info()"
   ]
  },
  {
   "cell_type": "code",
   "execution_count": null,
   "metadata": {},
   "outputs": [],
   "source": [
    "# Käsitellään host_response_time saraketta\n",
    "\n",
    "# Täytetään null arvot 'unknown' arvolla\n",
    "df_subset.loc[:, 'host_response_time'] = df_subset['host_response_time'].fillna('unknown') \n",
    "\n",
    "# Visualisoidaan arvojen jakauma prosentuaalinen jakauma \n",
    "host_response_times_percent = (df_subset['host_response_time'].value_counts() / df_subset.shape[0]) * 100\n",
    "host_response_times_percent = host_response_times_percent.sort_values() \n",
    "\n",
    "sns.set_theme(style=\"whitegrid\")\n",
    "plt.figure(figsize=(10, 5))\n",
    "sns.barplot(x=host_response_times_percent, y=host_response_times_percent.index)\n",
    "plt.title('Asuntojen vastausajan jakauma')\n",
    "plt.xlabel('Prosenttiosuus (%)')\n",
    "plt.ylabel('Vastausaika')\n",
    "plt.show()\n",
    "\n"
   ]
  },
  {
   "cell_type": "code",
   "execution_count": null,
   "metadata": {},
   "outputs": [],
   "source": [
    "# Käsitellään host_response_rate saraketta\n",
    "\n",
    "# Parsitaan '%' pois ja näiden rivien arvot numeeriseksi \n",
    "df_subset.loc[:, 'host_response_rate'] = df_subset['host_response_rate'].str.rstrip('%').astype('float') \n",
    "\n",
    "# Täytetään puuttuvat arvot mediaanilla \n",
    "mediaani =  df_subset['host_response_rate'].median()\n",
    "# infer_objects(copy=False) tarvittiin koska fillna toiminnallisuus muuttuu tulevaisuudessa\n",
    "df_subset['host_response_rate'] = df_subset['host_response_rate'].infer_objects(copy=False).fillna(mediaani) \n",
    "\n",
    "# # Visualisoidaan arvojen jakauma\n",
    "sns.set_theme(style=\"whitegrid\")\n",
    "plt.figure(figsize=(10, 5))\n",
    "sns.histplot(df_subset['host_response_rate'], kde=True)\n",
    "plt.title('Asuntojen vastausprosentin jakauma')\n",
    "plt.xlabel('Vastausprosentti (%)')\n",
    "plt.ylabel('Asuntojen määrä')\n",
    "plt.show()\n"
   ]
  },
  {
   "cell_type": "code",
   "execution_count": null,
   "metadata": {},
   "outputs": [],
   "source": [
    "# Käsitellään review_scores_rating saraketta\n",
    "\n",
    "mediaani =  df_subset['review_scores_rating'].median()\n",
    "df_subset.loc[:, 'review_scores_rating'] = df_subset['review_scores_rating'].fillna(mediaani)\n",
    "sns.set_theme(style=\"whitegrid\")\n",
    "plt.figure(figsize=(10, 5))\n",
    "sns.histplot(df_subset['review_scores_rating'], kde=True)\n",
    "plt.title('Asuntojen arvostelupisteiden jakauma')\n",
    "plt.xlabel('Pisteet')\n",
    "plt.ylabel('Asuntojen määrä')\n",
    "plt.show()\n",
    "\n",
    "\n"
   ]
  }
 ],
 "metadata": {
  "kernelspec": {
   "display_name": "joda",
   "language": "python",
   "name": "python3"
  },
  "language_info": {
   "codemirror_mode": {
    "name": "ipython",
    "version": 3
   },
   "file_extension": ".py",
   "mimetype": "text/x-python",
   "name": "python",
   "nbconvert_exporter": "python",
   "pygments_lexer": "ipython3",
   "version": "3.9.18"
  }
 },
 "nbformat": 4,
 "nbformat_minor": 2
}
