{
 "cells": [
  {
   "cell_type": "markdown",
   "metadata": {},
   "source": [
    "Tässä työkirjassa esitellä JSON datan lukeminen verkkosivun käyttämästä julkisen rajapinnan päätepisteestä, datan nopea kartoitus ja jalostaminen visualisointia varten, sekä yksinkertainen visualisointi. Työkirjan erityiset opit ovat datan hakeminen rajapinnasta ja helppo visualisointi seabornin avulla.\n",
    "\n",
    "Työkirjan tavoitteena on muodostaa visualisointi Liigan eri pelityyppien (harjoitus, runkosarja ja playoff) katsojakeskiarvoista kaudelta 2023-2024, jotta niitä voidaan verrata keskenään luotettavasti."
   ]
  },
  {
   "cell_type": "markdown",
   "metadata": {},
   "source": [
    "Ensiksi valittiin haluttu nettisivu, jossa oli sopivaa dataa. Tässä työkirjassa käsitellään liiga.fi-sivustolta saatavia tilastoja, sillä siellä oli helposti saatavilla Liiga-otteluiden tyypit ja katsojakeskiarvot. Rajapinnan päätepisteen löytäminen tapahtui selaimen kehittäjätyökalujen (developer tools) avulla etsimällä \"Verkko\" (Network) välilehdeltä Fetch/XHR pyyntöjä, joiden URL-osoite sisälsi sanan \"api\". Tämän jälkeen kutsun \"Esikatselu\" ja \"Vastaus\" välilehtiä hyödyntämällä saatiin valittua oikeaa dataa sisältävä rajapinnan päätepiste. \n",
    "\n",
    "Datan hakeminen JSON-muotoon halutusta rajapinnan päätepisteestä tapahtui seuraavanlaisesti:"
   ]
  },
  {
   "cell_type": "code",
   "execution_count": 1,
   "metadata": {},
   "outputs": [],
   "source": [
    "import requests\n",
    "import pandas as pd\n",
    "import seaborn as sns\n",
    "\n",
    "# Tehdään GET pyyntö rajapinnan päätepisteeseen ja erotellan JSON data vastauksen sisällöstä\n",
    "json_data = requests.get(\"https://liiga.fi/api/v2/games?tournament=all&season=2024\").json()"
   ]
  },
  {
   "cell_type": "markdown",
   "metadata": {},
   "source": [
    "Datan hakemisen jälkeen siitä muodostettiin pandas dataframe jatkokäsittelyn helpottamiseksi. Dataframen tiedot tulostettiin, jotta dataframen tietoja pystyttiin tarkastelemaan. Dataframesta tarkastettiin, että siitä löytyi pelin tyyppi ja katsojamäärä. Lisäksi näistä katsottiin kyseisten tietojen datatyypit jatkokäsittelyä varten ja että ei-tyhjiä arvoja oli tarpeeksi suuri määrä luotettavuuden varmistamiseksi."
   ]
  },
  {
   "cell_type": "code",
   "execution_count": 2,
   "metadata": {},
   "outputs": [
    {
     "name": "stdout",
     "output_type": "stream",
     "text": [
      "<class 'pandas.core.frame.DataFrame'>\n",
      "RangeIndex: 567 entries, 0 to 566\n",
      "Data columns (total 19 columns):\n",
      " #   Column           Non-Null Count  Dtype  \n",
      "---  ------           --------------  -----  \n",
      " 0   id               567 non-null    int64  \n",
      " 1   season           567 non-null    int64  \n",
      " 2   start            567 non-null    object \n",
      " 3   end              545 non-null    object \n",
      " 4   homeTeam         567 non-null    object \n",
      " 5   awayTeam         567 non-null    object \n",
      " 6   finishedType     567 non-null    object \n",
      " 7   started          567 non-null    bool   \n",
      " 8   ended            567 non-null    bool   \n",
      " 9   gameTime         545 non-null    float64\n",
      " 10  spectators       545 non-null    float64\n",
      " 11  cacheUpdateDate  545 non-null    object \n",
      " 12  stale            567 non-null    bool   \n",
      " 13  serie            567 non-null    object \n",
      " 14  playOffPair      51 non-null     float64\n",
      " 15  playOffPhase     51 non-null     float64\n",
      " 16  playOffReqWins   51 non-null     float64\n",
      " 17  buyTicketsUrl    14 non-null     object \n",
      " 18  gamblingEvent    2 non-null      object \n",
      "dtypes: bool(3), float64(5), int64(2), object(9)\n",
      "memory usage: 72.7+ KB\n"
     ]
    }
   ],
   "source": [
    "# Tehdän JSON-muotoisesta datasta Pandas dataframe\n",
    "df = pd.DataFrame(json_data)\n",
    "# Tulostetaan dataframen tiedot\n",
    "df.info()"
   ]
  },
  {
   "cell_type": "markdown",
   "metadata": {},
   "source": [
    "Dataframen tiedoista saatiin selville, että pelin tyypin kolumnin nimi on serie ja katsojamäärä spectators. Dataa vaikutti olevan myös tarpeeksi. Tämän perusteella dataframesta karsittiin epäolennaiset asiat pois ja dataframen tiedot tulostettiin sen tarkastelun avuksi."
   ]
  },
  {
   "cell_type": "code",
   "execution_count": 3,
   "metadata": {},
   "outputs": [
    {
     "name": "stdout",
     "output_type": "stream",
     "text": [
      "<class 'pandas.core.frame.DataFrame'>\n",
      "RangeIndex: 567 entries, 0 to 566\n",
      "Data columns (total 2 columns):\n",
      " #   Column      Non-Null Count  Dtype  \n",
      "---  ------      --------------  -----  \n",
      " 0   serie       567 non-null    object \n",
      " 1   spectators  545 non-null    float64\n",
      "dtypes: float64(1), object(1)\n",
      "memory usage: 9.0+ KB\n"
     ]
    }
   ],
   "source": [
    "# Karsitaan dataframesta epäolennaiset asiat pois\n",
    "df_rem = df[['serie', 'spectators']].copy()\n",
    "# Tulostetaan yhteenveto karsitusta dataframesta\n",
    "df_rem.info()"
   ]
  },
  {
   "cell_type": "markdown",
   "metadata": {},
   "source": [
    "Dataframen tiedoista huomattiin, että dataframe sisälsi vielä tyhjiä arvoja, joten ne siistittiin pois seuraavasti:"
   ]
  },
  {
   "cell_type": "code",
   "execution_count": 4,
   "metadata": {},
   "outputs": [],
   "source": [
    "# Siistitään tyhjät arvot pois datasta\n",
    "df_rem1 = df_rem.dropna()"
   ]
  },
  {
   "cell_type": "markdown",
   "metadata": {},
   "source": [
    "Seuraavaksi tarkasteltiin vielä eri pelityyppin datamääriä, että yleisökeskiarvojen vertailu olisi laadukasta."
   ]
  },
  {
   "cell_type": "code",
   "execution_count": 5,
   "metadata": {},
   "outputs": [
    {
     "name": "stdout",
     "output_type": "stream",
     "text": [
      "serie\n",
      "RUNKOSARJA    450\n",
      "PRACTICE       66\n",
      "PLAYOFFS       29\n",
      "Name: count, dtype: int64\n"
     ]
    }
   ],
   "source": [
    "# Tulostetaan kaikki eri pelityypit ja niiden pelimäärät\n",
    "print(df_rem1['serie'].value_counts())"
   ]
  },
  {
   "cell_type": "code",
   "execution_count": 6,
   "metadata": {},
   "outputs": [
    {
     "data": {
      "image/png": "[encoded data removed]",
      "text/plain": [
       "<Figure size 1000x500 with 1 Axes>"
      ]
     },
     "metadata": {},
     "output_type": "display_data"
    }
   ],
   "source": [
    "import matplotlib.pyplot as plt\n",
    "\n",
    "count_serie_percent = df_rem1['serie'].value_counts(normalize=True)\n",
    "plt.figure(figsize=(10,5))\n",
    "sns.barplot(x=count_serie_percent.index, y=count_serie_percent.values)\n",
    "plt.title('Pelityypit prosentteina')\n",
    "plt.ylabel('Prosenttia')\n",
    "plt.xlabel('Pelityyppi')\n",
    "plt.show()"
   ]
  },
  {
   "cell_type": "markdown",
   "metadata": {},
   "source": [
    "Pelityypeistä huomattiin, että playoff-pelejä oli datassa tekohetkellä vain 5 kappaletta, jolloin niiden katsojakeskiarvon ei voida tulkita olevan vertailukelpoista, sillä se ei sisällä dataa edes jokaisen playoffeihin päässeen joukkueen kotipelistä (yhteensä 10 joukkuetta playoffeissa). Playoff-pelit poistettiinkin datasta ja tämän jälkeen dataframen tiedot tulostettiin, jotta voitiin varmistaa, että tyhjät arvot ja playoff-pelit olivat onnistuneesti poistettu dataframesta."
   ]
  },
  {
   "cell_type": "code",
   "execution_count": 7,
   "metadata": {},
   "outputs": [
    {
     "name": "stdout",
     "output_type": "stream",
     "text": [
      "<class 'pandas.core.frame.DataFrame'>\n",
      "Index: 516 entries, 0 to 515\n",
      "Data columns (total 2 columns):\n",
      " #   Column      Non-Null Count  Dtype  \n",
      "---  ------      --------------  -----  \n",
      " 0   serie       516 non-null    object \n",
      " 1   spectators  516 non-null    float64\n",
      "dtypes: float64(1), object(1)\n",
      "memory usage: 12.1+ KB\n"
     ]
    }
   ],
   "source": [
    "# Poistetaan playoff-pelit dataframesta\n",
    "df_rem2 = df_rem1[df_rem1['serie'] != 'PLAYOFFS']\n",
    "# Tulostetaan yhteenveto dataframesta ilman tyhjiä arvoja ja playoff-pelejä\n",
    "df_rem2.info()"
   ]
  },
  {
   "cell_type": "markdown",
   "metadata": {},
   "source": [
    "Dataframen tulostetuista tiedoista varmistettiin, että tyhjiä arvoja sisältäneet entryt ja playoff-pelit olivat karsittu datasta onnistuneesti pois. Lopuksi dataframen tiedot visualisoitiin seaborn kirjaston avulla pylväskaavioksi. Tässä visualisoinnissa jätettiin esimerkiksi otsikointi, akselien otsikkojen muokkaaminen ja värien muuttaminen pois koodirivien säästämiseksi. Näihin voisi hyödyntää esimerkiksi matplotlib-kirjastoa."
   ]
  },
  {
   "cell_type": "code",
   "execution_count": 8,
   "metadata": {},
   "outputs": [
    {
     "name": "stderr",
     "output_type": "stream",
     "text": [
      "/tmp/ipykernel_286003/2508523703.py:2: FutureWarning: \n",
      "\n",
      "The `ci` parameter is deprecated. Use `errorbar=None` for the same effect.\n",
      "\n",
      "  sns.barplot(x=\"serie\", y=\"spectators\", data=df_rem2, ci=None)\n"
     ]
    },
    {
     "data": {
      "text/plain": [
       "<Axes: xlabel='serie', ylabel='spectators'>"
      ]
     },
     "execution_count": 8,
     "metadata": {},
     "output_type": "execute_result"
    },
    {
     "data": {
      "image/png": "[encoded data removed]",
      "text/plain": [
       "<Figure size 640x480 with 1 Axes>"
      ]
     },
     "metadata": {},
     "output_type": "display_data"
    }
   ],
   "source": [
    "# Visualisoidaan katsojakeskiarvot harjoituspeleissä ja runkosarjapeleissä\n",
    "sns.barplot(x=\"serie\", y=\"spectators\", data=df_rem2, ci=None)"
   ]
  },
  {
   "cell_type": "markdown",
   "metadata": {},
   "source": [
    "Visualisoinnista voidaan selkeästi havaita, että Liigan runkosarjapeleissä on yli kaksinkertainen yleisökeskiarvo harjoituskauden peleihin verrattuna. Playoff-pelien katsojakeskiarvoa ei voitu ottaa mukaan vertailuun, sillä data ei sisältänyt tarpeeksi playoff-pelejä, jolloin keskiarvo ei olisi ollut luotettava."
   ]
  }
 ],
 "metadata": {
  "kernelspec": {
   "display_name": "jodaenv",
   "language": "python",
   "name": "python3"
  },
  "language_info": {
   "codemirror_mode": {
    "name": "ipython",
    "version": 3
   },
   "file_extension": ".py",
   "mimetype": "text/x-python",
   "name": "python",
   "nbconvert_exporter": "python",
   "pygments_lexer": "ipython3",
   "version": "3.9.19"
  }
 },
 "nbformat": 4,
 "nbformat_minor": 2
}
