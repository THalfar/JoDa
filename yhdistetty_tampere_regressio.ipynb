{
 "cells": [
  {
   "cell_type": "code",
   "execution_count": 1,
   "metadata": {},
   "outputs": [
    {
     "name": "stdout",
     "output_type": "stream",
     "text": [
      "['Global_Landslide_Catalog_Export.csv:Zone.Identifier', 'Tampere_BNB_testing_listing.csv', 'Global_Landslide_Catalog_Export.csv', 'Tampere_BNB_training_listing.csv', 'Tampere_BNB_training_listing.csv:Zone.Identifier', 'Tampere_BNB_testing_listing.csv:Zone.Identifier', 'catalog.csv:Zone.Identifier', 'NFL Play by Play 2009-2016 (v3).csv', 'catalog.csv', 'Building_Permits.csv:Zone.Identifier', 'NFL Play by Play 2009-2016 (v3).csv:Zone.Identifier', 'Building_Permits.csv']\n"
     ]
    }
   ],
   "source": [
    "\n",
    "import numpy as np\n",
    "import pandas as pd\n",
    "import matplotlib.pyplot as plt\n",
    "import os \n",
    "import seaborn as sns\n",
    "\n",
    "hakemisto = './data/'\n",
    "\n",
    "sisalto = os.listdir(hakemisto)\n",
    "print(sisalto)\n",
    "\n",
    "# Ladataan data \n",
    "df_train = pd.read_csv('./data/Tampere_BNB_training_listing.csv')\n",
    "df_test = pd.read_csv('./data/Tampere_BNB_testing_listing.csv')\n",
    "\n",
    "df = pd.concat([df_train, df_test], ignore_index=True)\n"
   ]
  },
  {
   "cell_type": "code",
   "execution_count": 2,
   "metadata": {},
   "outputs": [
    {
     "data": {
      "text/html": [
       "<div>\n",
       "<style scoped>\n",
       "    .dataframe tbody tr th:only-of-type {\n",
       "        vertical-align: middle;\n",
       "    }\n",
       "\n",
       "    .dataframe tbody tr th {\n",
       "        vertical-align: top;\n",
       "    }\n",
       "\n",
       "    .dataframe thead th {\n",
       "        text-align: right;\n",
       "    }\n",
       "</style>\n",
       "<table border=\"1\" class=\"dataframe\">\n",
       "  <thead>\n",
       "    <tr style=\"text-align: right;\">\n",
       "      <th></th>\n",
       "      <th>m2</th>\n",
       "      <th>Rv</th>\n",
       "      <th>Pituusaste</th>\n",
       "      <th>Leveysaste</th>\n",
       "      <th>Hinta</th>\n",
       "    </tr>\n",
       "  </thead>\n",
       "  <tbody>\n",
       "    <tr>\n",
       "      <th>count</th>\n",
       "      <td>1440.000000</td>\n",
       "      <td>1440.000000</td>\n",
       "      <td>1440.000000</td>\n",
       "      <td>1440.000000</td>\n",
       "      <td>1080.000000</td>\n",
       "    </tr>\n",
       "    <tr>\n",
       "      <th>mean</th>\n",
       "      <td>61.084028</td>\n",
       "      <td>1990.502778</td>\n",
       "      <td>23.796818</td>\n",
       "      <td>61.485237</td>\n",
       "      <td>283.833333</td>\n",
       "    </tr>\n",
       "    <tr>\n",
       "      <th>std</th>\n",
       "      <td>27.861087</td>\n",
       "      <td>26.727825</td>\n",
       "      <td>0.102030</td>\n",
       "      <td>0.026123</td>\n",
       "      <td>140.907735</td>\n",
       "    </tr>\n",
       "    <tr>\n",
       "      <th>min</th>\n",
       "      <td>12.000000</td>\n",
       "      <td>1880.000000</td>\n",
       "      <td>23.581308</td>\n",
       "      <td>61.430235</td>\n",
       "      <td>36.000000</td>\n",
       "    </tr>\n",
       "    <tr>\n",
       "      <th>25%</th>\n",
       "      <td>41.000000</td>\n",
       "      <td>1970.000000</td>\n",
       "      <td>23.734703</td>\n",
       "      <td>61.466342</td>\n",
       "      <td>192.000000</td>\n",
       "    </tr>\n",
       "    <tr>\n",
       "      <th>50%</th>\n",
       "      <td>57.000000</td>\n",
       "      <td>1990.000000</td>\n",
       "      <td>23.794420</td>\n",
       "      <td>61.493023</td>\n",
       "      <td>255.000000</td>\n",
       "    </tr>\n",
       "    <tr>\n",
       "      <th>75%</th>\n",
       "      <td>75.000000</td>\n",
       "      <td>2018.000000</td>\n",
       "      <td>23.854360</td>\n",
       "      <td>61.501872</td>\n",
       "      <td>339.000000</td>\n",
       "    </tr>\n",
       "    <tr>\n",
       "      <th>max</th>\n",
       "      <td>259.000000</td>\n",
       "      <td>2024.000000</td>\n",
       "      <td>24.070784</td>\n",
       "      <td>61.627915</td>\n",
       "      <td>1299.000000</td>\n",
       "    </tr>\n",
       "  </tbody>\n",
       "</table>\n",
       "</div>"
      ],
      "text/plain": [
       "                m2           Rv   Pituusaste   Leveysaste        Hinta\n",
       "count  1440.000000  1440.000000  1440.000000  1440.000000  1080.000000\n",
       "mean     61.084028  1990.502778    23.796818    61.485237   283.833333\n",
       "std      27.861087    26.727825     0.102030     0.026123   140.907735\n",
       "min      12.000000  1880.000000    23.581308    61.430235    36.000000\n",
       "25%      41.000000  1970.000000    23.734703    61.466342   192.000000\n",
       "50%      57.000000  1990.000000    23.794420    61.493023   255.000000\n",
       "75%      75.000000  2018.000000    23.854360    61.501872   339.000000\n",
       "max     259.000000  2024.000000    24.070784    61.627915  1299.000000"
      ]
     },
     "execution_count": 2,
     "metadata": {},
     "output_type": "execute_result"
    }
   ],
   "source": [
    "df.describe()   "
   ]
  }
 ],
 "metadata": {
  "kernelspec": {
   "display_name": "joda",
   "language": "python",
   "name": "python3"
  },
  "language_info": {
   "codemirror_mode": {
    "name": "ipython",
    "version": 3
   },
   "file_extension": ".py",
   "mimetype": "text/x-python",
   "name": "python",
   "nbconvert_exporter": "python",
   "pygments_lexer": "ipython3",
   "version": "3.9.18"
  }
 },
 "nbformat": 4,
 "nbformat_minor": 2
}
