{
 "cells": [
  {
   "cell_type": "markdown",
   "metadata": {},
   "source": [
    "# Kategorinen data ja puuttuvien arvojen käsittely"
   ]
  },
  {
   "cell_type": "code",
   "execution_count": null,
   "metadata": {},
   "outputs": [],
   "source": [
    "import pandas as pd \n",
    "import numpy as np \n",
    "\n",
    "from sklearn import preprocessing\n",
    "from sklearn import linear_model\n",
    "from sklearn.metrics import mean_squared_error, mean_absolute_error\n",
    "from sklearn.model_selection import cross_val_predict\n",
    "from sklearn.impute import SimpleImputer\n",
    "\n",
    "import matplotlib.pyplot as plt\n",
    "import os "
   ]
  },
  {
   "cell_type": "code",
   "execution_count": null,
   "metadata": {},
   "outputs": [],
   "source": [
    "# luetaan data ja tallennetaan se csv-tiedostoon\n",
    "if os.path.exists('abnd_listings.csv'):\n",
    "    df = pd.read_csv('abnd_listings.csv')\n",
    "else:\n",
    "    df = pd.read_csv('https://raw.githubusercontent.com/InfoTUNI/joda2022/master/koodiesimerkit/data.csv')\n",
    "    df.to_csv('abnd_listings.csv')\n",
    "\n",
    "df.info()"
   ]
  },
  {
   "cell_type": "code",
   "execution_count": null,
   "metadata": {},
   "outputs": [],
   "source": [
    "df_no_missing = df[['host_response_time', 'host_response_rate', 'review_scores_rating']].copy()\n",
    "\n",
    "print(df_no_missing.head())\n",
    "print(df_no_missing.host_response_time.unique())"
   ]
  },
  {
   "cell_type": "code",
   "execution_count": null,
   "metadata": {},
   "outputs": [],
   "source": [
    "df_no_missing.host_response_rate = df_no_missing.host_response_rate.str.strip('%')\n",
    "df_no_missing.host_response_rate = pd.to_numeric(df_no_missing.host_response_rate)\n",
    "\n",
    "print(df_no_missing.info, '\\n')\n",
    "print(df_no_missing.dtypes, '\\n')\n",
    "print(df_no_missing.head(), '\\n')\n",
    "\n",
    "null_counts = df_no_missing.isnull().sum()\n",
    "print(f\"Null values count: \\n {null_counts}\")"
   ]
  },
  {
   "cell_type": "code",
   "execution_count": null,
   "metadata": {},
   "outputs": [],
   "source": [
    "# Pudotetaan rivit, joissa on puuttuvia arvoja\n",
    "df_no_missing = df_no_missing.dropna()\n",
    "df_no_missing.info()"
   ]
  },
  {
   "cell_type": "code",
   "execution_count": null,
   "metadata": {},
   "outputs": [],
   "source": [
    "# Kategorisoidaan host_response_time -sarake\n",
    "le = preprocessing.LabelEncoder()\n",
    "arr = le.fit_transform(df_no_missing.host_response_time)\n",
    "df_no_missing.host_response_time = arr "
   ]
  },
  {
   "cell_type": "code",
   "execution_count": null,
   "metadata": {},
   "outputs": [],
   "source": [
    "print(arr)\n",
    "df_no_missing.head()"
   ]
  },
  {
   "cell_type": "code",
   "execution_count": null,
   "metadata": {},
   "outputs": [],
   "source": [
    "# Käytetään lineaarista mallia, joka ennustaa review_scores_rating -sarakeen arvoja.\n",
    "lr = linear_model.LinearRegression()\n",
    "y = df_no_missing.review_scores_rating\n",
    "X = df_no_missing.drop(columns='review_scores_rating')\n"
   ]
  },
  {
   "cell_type": "code",
   "execution_count": null,
   "metadata": {},
   "outputs": [],
   "source": [
    "predictions = cross_val_predict(lr, X, y, cv=10)\n",
    "\n",
    "fig, ax = plt.subplots(figsize = (20,10))\n",
    "\n",
    "ax.scatter(y, predictions, edgecolors=(0, 0, 0))\n",
    "ax.plot([y.min(), y.max()], [y.min(), y.max()], 'k--', lw=4)\n",
    "ax.set_xlabel('Measured')\n",
    "ax.set_ylabel('Predicted')\n",
    "plt.show()"
   ]
  },
  {
   "cell_type": "code",
   "execution_count": null,
   "metadata": {},
   "outputs": [],
   "source": [
    "print(df_no_missing.corr())\n"
   ]
  },
  {
   "cell_type": "code",
   "execution_count": null,
   "metadata": {},
   "outputs": [],
   "source": [
    "mse = mean_squared_error(predictions, y)\n",
    "mae = mean_absolute_error(predictions, y)\n",
    "print(f\"Mean squared error: {mse:.2f}\\nMean absolute error: {mae:.2f}\")"
   ]
  },
  {
   "cell_type": "markdown",
   "metadata": {},
   "source": [
    "# Toinen lähestymistapa - Täytetään tyhjät arvot mediaanilla "
   ]
  },
  {
   "cell_type": "code",
   "execution_count": null,
   "metadata": {},
   "outputs": [],
   "source": [
    "df_imp = df[['review_scores_accuracy','review_scores_cleanliness',\n",
    "         'review_scores_checkin','review_scores_communication',\n",
    "         'review_scores_location','review_scores_value',\n",
    "         'review_scores_rating']].copy()\n",
    "\n",
    "print(df_imp.isnull().sum())\n"
   ]
  },
  {
   "cell_type": "code",
   "execution_count": null,
   "metadata": {},
   "outputs": [],
   "source": [
    "# Tarkastellaan otettujen muuttujien mediaaneja\n",
    "df_imp.median()"
   ]
  },
  {
   "cell_type": "code",
   "execution_count": null,
   "metadata": {},
   "outputs": [],
   "source": [
    "# Lisätään tyhjiin arvioihin kyseiisten sarakkeiden mediaaniarvot\n",
    "df_imp = df_imp.fillna(df_imp.median())\n",
    "print(df_imp.isnull().sum())"
   ]
  },
  {
   "cell_type": "markdown",
   "metadata": {},
   "source": [
    "# Ennustetaan lineaarisella mallilla arvostelut jossa tyhjät arvot korvattu kyseisen sarakkeen mediaanilla"
   ]
  },
  {
   "cell_type": "code",
   "execution_count": null,
   "metadata": {},
   "outputs": [],
   "source": [
    "# Käytetään lineaarista mallia, joka ennustaa review_scores_rating -sarakeen arvoja.\n",
    "\n",
    "lr = linear_model.LinearRegression()\n",
    "\n",
    "y = df_imp.review_scores_rating\n",
    "X = df_imp.drop(columns='review_scores_rating')\n",
    "\n",
    "predictions = cross_val_predict(lr, X, y, cv=10)"
   ]
  },
  {
   "cell_type": "code",
   "execution_count": null,
   "metadata": {},
   "outputs": [],
   "source": [
    "fig, ax = plt.subplots(figsize = (20,10))\n",
    "ax.scatter(y, predictions, edgecolors=(0, 0, 0))\n",
    "ax.plot([y.min(), y.max()], [y.min(), y.max()], 'k--', lw=4)\n",
    "ax.set_xlabel('Measured')\n",
    "ax.set_ylabel('Predicted')\n",
    "plt.show()"
   ]
  },
  {
   "cell_type": "code",
   "execution_count": null,
   "metadata": {},
   "outputs": [],
   "source": [
    "print(df_imp.corr()['review_scores_rating'])"
   ]
  },
  {
   "cell_type": "code",
   "execution_count": null,
   "metadata": {},
   "outputs": [],
   "source": [
    "# Tarkastellaan lineaarisen mallin virheitä \n",
    "\n",
    "mse = mean_squared_error(predictions, y)\n",
    "mae = mean_absolute_error(predictions, y)\n",
    "print(f\"Mean squared error: {mse:.2f}\\nMean absolute error: {mae:.2f}\")"
   ]
  },
  {
   "cell_type": "markdown",
   "metadata": {},
   "source": [
    "# Käytetään satunnaista päätöspuumetsää ja optimoidaan hyperparametrit satunnaisella haulla "
   ]
  },
  {
   "cell_type": "code",
   "execution_count": null,
   "metadata": {},
   "outputs": [],
   "source": [
    "from sklearn.ensemble import RandomForestRegressor\n",
    "from sklearn.model_selection import RandomizedSearchCV\n",
    "\n",
    "rf = RandomForestRegressor()\n",
    "y = df_imp.review_scores_rating\n",
    "X = df_imp.drop(columns='review_scores_rating')\n",
    "\n",
    "# Määritellään hyperparametrien etsintäavaruus\n",
    "param_space = {\n",
    "    'n_estimators': np.arange(1, 500, 10),\n",
    "    'max_depth': np.arange(3, 11),\n",
    "    'min_samples_split': np.arange(2, 11),\n",
    "    'min_samples_leaf': np.arange(1, 6),\n",
    "    'max_features': ['sqrt', 'log2', None],\n",
    "    'bootstrap': [True, False]\n",
    "}\n",
    "\n",
    "# Haetaan parhaat hyperparametrit\n",
    "random_search = RandomizedSearchCV(\n",
    "estimator = rf,\n",
    "param_distributions = param_space,\n",
    "cv = 5,\n",
    "n_jobs= -2,\n",
    "n_iter = 1000,\n",
    "verbose = 0\n",
    ")\n",
    "\n",
    "random_search.fit(X, y)\n",
    "best_model = random_search.best_estimator_\n",
    "\n",
    "# Käytetään parhaita hyperparametrejä\n",
    "predictions = best_model.predict(X)\n",
    "\n",
    "# Tarkastellaan mallin toimivuutta\n",
    "fig, ax = plt.subplots(figsize = (20,10))\n",
    "ax.scatter(y, predictions, edgecolors=(0, 0, 0))\n",
    "ax.plot([y.min(), y.max()], [y.min(), y.max()], 'k--', lw=4)\n",
    "ax.set_xlabel('Measured')\n",
    "ax.set_ylabel('Predicted')\n",
    "plt.show()\n",
    "\n",
    "mse = mean_squared_error(predictions, y)\n",
    "mae = mean_absolute_error(predictions, y)\n",
    "print(f\"Mean squared error: {mse:.2f}\\nMean absolute error: {mae:.2f}\")"
   ]
  },
  {
   "cell_type": "markdown",
   "metadata": {},
   "source": [
    "# Käytetään satunnaista päätöspuumetsää ennustamisessa. Käytetään hyperparametrien optimointiin HalvingRandomSearchCV hakua"
   ]
  },
  {
   "cell_type": "code",
   "execution_count": null,
   "metadata": {},
   "outputs": [],
   "source": [
    "from sklearn.ensemble import RandomForestRegressor\n",
    "from sklearn.experimental import enable_halving_search_cv\n",
    "from sklearn.model_selection import HalvingRandomSearchCV\n",
    "\n",
    "rf = RandomForestRegressor()\n",
    "y = df_imp.review_scores_rating\n",
    "X = df_imp.drop(columns='review_scores_rating')\n",
    "\n",
    "# Määritellään hyperparametrien etsintäavaruus\n",
    "param_space = {\n",
    "    'n_estimators': np.arange(1, 500, 100),\n",
    "    'max_depth': np.arange(3, 11),\n",
    "    'min_samples_split': np.arange(2, 11),\n",
    "    'min_samples_leaf': np.arange(1, 6),\n",
    "    'max_features': ['sqrt', 'log2', None],\n",
    "    'bootstrap': [True, False]\n",
    "}\n",
    "\n",
    "# Haetaan parhaat hyperparametrit\n",
    "halving_random_search = HalvingRandomSearchCV(\n",
    "estimator = rf,\n",
    "param_distributions = param_space,\n",
    "cv = 5,\n",
    "n_jobs=-2,\n",
    "aggressive_elimination = True,\n",
    "factor = 2,\n",
    "verbose = 0\n",
    ")\n",
    "\n",
    "halving_random_search.fit(X, y)\n",
    "best_model = halving_random_search.best_estimator_\n",
    "\n",
    "# Käytetään parhaita hyperparametrejä\n",
    "predictions = best_model.predict(X)\n",
    "\n",
    "# Tarkastellaan mallin toimivuutta\n",
    "fig, ax = plt.subplots(figsize = (20,10))\n",
    "ax.scatter(y, predictions, edgecolors=(0, 0, 0))\n",
    "ax.plot([y.min(), y.max()], [y.min(), y.max()], 'k--', lw=4)\n",
    "ax.set_xlabel('Measured')\n",
    "ax.set_ylabel('Predicted')\n",
    "plt.show()\n",
    "\n",
    "mse = mean_squared_error(predictions, y)\n",
    "mae = mean_absolute_error(predictions, y)\n",
    "print(f\"Mean squared error: {mse:.2f}\\nMean absolute erro: {mae:.2f}\")\n",
    "\n",
    "\n",
    "\n"
   ]
  }
 ],
 "metadata": {
  "kernelspec": {
   "display_name": "joda",
   "language": "python",
   "name": "python3"
  },
  "language_info": {
   "codemirror_mode": {
    "name": "ipython",
    "version": 3
   },
   "file_extension": ".py",
   "mimetype": "text/x-python",
   "name": "python",
   "nbconvert_exporter": "python",
   "pygments_lexer": "ipython3",
   "version": "3.9.18"
  }
 },
 "nbformat": 4,
 "nbformat_minor": 2
}
