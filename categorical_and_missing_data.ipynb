{
 "cells": [
  {
   "cell_type": "markdown",
   "metadata": {},
   "source": [
    "# Kategorinen data ja puuttuvien arvojen käsittely"
   ]
  },
  {
   "cell_type": "code",
   "execution_count": null,
   "metadata": {},
   "outputs": [],
   "source": [
    "import pandas as pd \n",
    "import numpy as np \n",
    "\n",
    "from sklearn import preprocessing\n",
    "from sklearn import linear_model\n",
    "from sklearn.metrics import mean_squared_error, mean_absolute_error\n",
    "from sklearn.model_selection import cross_val_predict\n",
    "from sklearn.impute import SimpleImputer\n",
    "\n",
    "import matplotlib.pyplot as plt\n",
    "import os "
   ]
  },
  {
   "cell_type": "code",
   "execution_count": null,
   "metadata": {},
   "outputs": [],
   "source": [
    "# luetaan data ja tallennetaan se csv-tiedostoon\n",
    "if os.path.exists('abnd_listings.csv'):\n",
    "    df = pd.read_csv('abnd_listings.csv')\n",
    "else:\n",
    "    df = pd.read_csv('https://raw.githubusercontent.com/InfoTUNI/joda2022/master/koodiesimerkit/data.csv')\n",
    "    df.to_csv('abnd_listings.csv')\n",
    "\n",
    "df.info()"
   ]
  },
  {
   "cell_type": "code",
   "execution_count": null,
   "metadata": {},
   "outputs": [],
   "source": [
    "df_no_missing = df[['host_response_time', 'host_response_rate', 'review_scores_rating']].copy()\n",
    "\n",
    "print(df_no_missing.head())\n",
    "print(df_no_missing.host_response_time.unique())"
   ]
  },
  {
   "cell_type": "code",
   "execution_count": null,
   "metadata": {},
   "outputs": [],
   "source": [
    "df_no_missing.host_response_rate = df_no_missing.host_response_rate.str.strip('%')\n",
    "df_no_missing.host_response_rate = pd.to_numeric(df_no_missing.host_response_rate)\n",
    "\n",
    "print(df_no_missing.info, '\\n')\n",
    "print(df_no_missing.dtypes, '\\n')\n",
    "print(df_no_missing.head(), '\\n')\n",
    "\n",
    "null_counts = df_no_missing.isnull().sum()\n",
    "print(f\"Null values count: \\n {null_counts}\")"
   ]
  },
  {
   "cell_type": "code",
   "execution_count": null,
   "metadata": {},
   "outputs": [],
   "source": [
    "# Pudotetaan rivit, joissa on puuttuvia arvoja\n",
    "df_no_missing = df_no_missing.dropna()\n",
    "df_no_missing.info()"
   ]
  },
  {
   "cell_type": "code",
   "execution_count": null,
   "metadata": {},
   "outputs": [],
   "source": [
    "# Kategorisoidaan host_response_time -sarake\n",
    "le = preprocessing.LabelEncoder()\n",
    "arr = le.fit_transform(df_no_missing.host_response_time)\n",
    "df_no_missing.host_response_time = arr "
   ]
  },
  {
   "cell_type": "code",
   "execution_count": null,
   "metadata": {},
   "outputs": [],
   "source": [
    "print(arr)\n",
    "df_no_missing.head()"
   ]
  },
  {
   "cell_type": "code",
   "execution_count": null,
   "metadata": {},
   "outputs": [],
   "source": [
    "# Käytetään lineaarista mallia, joka ennustaa review_scores_rating -sarakeen arvoja.\n",
    "lr = linear_model.LinearRegression()\n",
    "y = df_no_missing.review_scores_rating\n",
    "X = df_no_missing.drop(columns='review_scores_rating')\n"
   ]
  },
  {
   "cell_type": "code",
   "execution_count": null,
   "metadata": {},
   "outputs": [],
   "source": [
    "predictions = cross_val_predict(lr, X, y, cv=10)\n",
    "\n",
    "fig, ax = plt.subplots(figsize = (20,10))\n",
    "\n",
    "ax.scatter(y, predictions, edgecolors=(0, 0, 0))\n",
    "ax.plot([y.min(), y.max()], [y.min(), y.max()], 'k--', lw=4)\n",
    "ax.set_xlabel('Measured')\n",
    "ax.set_ylabel('Predicted')\n",
    "plt.show()"
   ]
  },
  {
   "cell_type": "code",
   "execution_count": null,
   "metadata": {},
   "outputs": [],
   "source": [
    "print(df_no_missing.corr())\n"
   ]
  },
  {
   "cell_type": "code",
   "execution_count": null,
   "metadata": {},
   "outputs": [],
   "source": [
    "mse = mean_squared_error(predictions, y)\n",
    "mae = mean_absolute_error(predictions, y)\n",
    "print(f\"Mean squared error: {mse:.2f}\\nMean absolute error: {mae:.2f}\")"
   ]
  },
  {
   "cell_type": "markdown",
   "metadata": {},
   "source": [
    "# Toinen lähestymistapa - Täytetään tyhjät arvot mediaanilla "
   ]
  },
  {
   "cell_type": "code",
   "execution_count": null,
   "metadata": {},
   "outputs": [],
   "source": [
    "df_imp = df[['review_scores_accuracy','review_scores_cleanliness',\n",
    "         'review_scores_checkin','review_scores_communication',\n",
    "         'review_scores_location','review_scores_value',\n",
    "         'review_scores_rating']].copy()\n",
    "\n",
    "print(df_imp.isnull().sum())\n"
   ]
  },
  {
   "cell_type": "code",
   "execution_count": null,
   "metadata": {},
   "outputs": [],
   "source": [
    "# Tarkastellaan otettujen muuttujien mediaaneja\n",
    "df_imp.median()"
   ]
  },
  {
   "cell_type": "code",
   "execution_count": null,
   "metadata": {},
   "outputs": [],
   "source": [
    "# Lisätään tyhjiin arvioihin kyseiisten sarakkeiden mediaaniarvot\n",
    "df_imp = df_imp.fillna(df_imp.median())\n",
    "print(df_imp.isnull().sum())"
   ]
  },
  {
   "cell_type": "markdown",
   "metadata": {},
   "source": [
    "# Ennustetaan lineaarisella mallilla arvostelut jossa tyhjät arvot korvattu kyseisen sarakkeen mediaanilla"
   ]
  },
  {
   "cell_type": "code",
   "execution_count": null,
   "metadata": {},
   "outputs": [],
   "source": [
    "# Käytetään lineaarista mallia, joka ennustaa review_scores_rating -sarakeen arvoja.\n",
    "lr = linear_model.LinearRegression()\n",
    "\n",
    "y = df_imp.review_scores_rating\n",
    "X = df_imp.drop(columns='review_scores_rating')\n",
    "\n",
    "# Erotetaan testi ja opetusdata toisistaan\n",
    "from sklearn.model_selection import train_test_split\n",
    "X_train, X_test, y_train, y_test = train_test_split(X, y, test_size=0.2, random_state=42)\n",
    "\n",
    "lr.fit(X_train, y_train)\n",
    "predictions = lr.predict(X_test)"
   ]
  },
  {
   "cell_type": "code",
   "execution_count": null,
   "metadata": {},
   "outputs": [],
   "source": [
    "fig, ax = plt.subplots(figsize = (20,10))\n",
    "ax.scatter(y_test, predictions, edgecolors=(0, 0, 0))\n",
    "ax.plot([y_test.min(), y_test.max()], [y_test.min(), y_test.max()], 'k--', lw=4)\n",
    "ax.set_xlabel('Measured')\n",
    "ax.set_ylabel('Predicted')\n",
    "plt.show()"
   ]
  },
  {
   "cell_type": "code",
   "execution_count": null,
   "metadata": {},
   "outputs": [],
   "source": [
    "print(df_imp.corr()['review_scores_rating'])"
   ]
  },
  {
   "cell_type": "code",
   "execution_count": null,
   "metadata": {},
   "outputs": [],
   "source": [
    "# Tarkastellaan lineaarisen mallin virheitä \n",
    "\n",
    "mse = mean_squared_error(predictions, y_test)\n",
    "mae = mean_absolute_error(predictions, y_test)\n",
    "\n",
    "# Pidetään tällä yllä eri mallien suorituskykyä\n",
    "models_performance = pd.DataFrame({'Model Name': ['Linear Regression'], 'MSE': [mse], 'MAE': [mae]})\n"
   ]
  },
  {
   "cell_type": "markdown",
   "metadata": {},
   "source": [
    "# Käytetään satunnaista päätöspuumetsää ja optimoidaan hyperparametrit satunnaisella haulla "
   ]
  },
  {
   "cell_type": "code",
   "execution_count": null,
   "metadata": {},
   "outputs": [],
   "source": [
    "from sklearn.ensemble import RandomForestRegressor\n",
    "from sklearn.model_selection import RandomizedSearchCV\n",
    "\n",
    "rf = RandomForestRegressor()\n",
    "\n",
    "# Määritellään hyperparametrien etsintäavaruus\n",
    "param_space = {\n",
    "    'n_estimators': np.arange(1, 500, 10),\n",
    "    'max_depth': np.arange(3, 11),\n",
    "    'min_samples_split': np.arange(2, 11),\n",
    "    'min_samples_leaf': np.arange(1, 6),\n",
    "    'max_features': ['sqrt', 'log2', None],\n",
    "    'bootstrap': [True, False]\n",
    "}\n",
    "\n",
    "# Haetaan parhaat hyperparametrit\n",
    "random_search = RandomizedSearchCV(\n",
    "estimator = rf,\n",
    "param_distributions = param_space,\n",
    "cv = 5,\n",
    "n_jobs= -2,\n",
    "n_iter = 100,\n",
    "verbose = 0\n",
    ")\n",
    "\n",
    "random_search.fit(X_train, y_train)\n",
    "best_model = random_search.best_estimator_\n",
    "\n",
    "# Käytetään parhaita hyperparametrejä\n",
    "predictions = best_model.predict(X_test)\n",
    "\n",
    "# Tarkastellaan mallin toimivuutta\n",
    "fig, ax = plt.subplots(figsize = (20,10))\n",
    "ax.scatter(y_test, predictions, edgecolors=(0, 0, 0))\n",
    "ax.plot([y_test.min(), y_test.max()], [y_test.min(), y_test.max()], 'k--', lw=4)\n",
    "ax.set_xlabel('Measured')\n",
    "ax.set_ylabel('Predicted')\n",
    "plt.show()\n",
    "\n",
    "mse = mean_squared_error(predictions, y_test)\n",
    "mae = mean_absolute_error(predictions, y_test)\n",
    "\n",
    "# Tallennetaan mallin suorituskyky\n",
    "models_performance = pd.concat([models_performance, pd.DataFrame({'Model Name': ['RandomForestRegressor'], 'MSE': [mse], 'MAE': [mae]})], ignore_index=True)\n"
   ]
  },
  {
   "cell_type": "markdown",
   "metadata": {},
   "source": [
    "# Testataan XGBoost mallia ja etsitään sillekin hyperparametrit "
   ]
  },
  {
   "cell_type": "code",
   "execution_count": null,
   "metadata": {},
   "outputs": [],
   "source": [
    "import xgboost\n",
    "\n",
    "# Käyetään xgboost -mallia MSE objektiivilla\n",
    "xgb = xgboost.XGBRegressor(objective ='reg:squarederror')\n",
    "\n",
    "param_space = {\n",
    "    'n_estimators': np.arange(1, 500, 10),\n",
    "    'max_depth': np.arange(3, 11),\n",
    "    'learning_rate': [0.1, 0.01, 0.001],\n",
    "    'subsample': [0.8, 0.9, 1.0],\n",
    "    'colsample_bytree': [0.8, 0.9, 1.0],\n",
    "    'gamma': [0, 1, 5],\n",
    "    'reg_alpha': [0, 0.1, 0.5],\n",
    "    'reg_lambda': [1, 1.5, 2] \n",
    "}\n",
    "\n",
    "random_search = RandomizedSearchCV(\n",
    "estimator = xgb,\n",
    "param_distributions = param_space,\n",
    "cv = 5,\n",
    "n_jobs= -2,\n",
    "n_iter = 100,\n",
    "verbose = 0\n",
    ")\n",
    "\n",
    "\n",
    "random_search.fit(X_train, y_train)\n",
    "best_model = random_search.best_estimator_\n",
    "\n",
    "# Käytetään parhaita hyperparametrejä\n",
    "predictions = best_model.predict(X_test)\n",
    "\n",
    "# Tarkastellaan mallin toimivuutta\n",
    "fig, ax = plt.subplots(figsize = (20,10))\n",
    "ax.scatter(y_test, predictions, edgecolors=(0, 0, 0))\n",
    "ax.plot([y_test.min(), y_test.max()], [y_test.min(), y_test.max()], 'k--', lw=4)\n",
    "ax.set_xlabel('Measured')\n",
    "ax.set_ylabel('Predicted')\n",
    "plt.show()\n",
    "\n",
    "mse = mean_squared_error(predictions, y_test)\n",
    "mae = mean_absolute_error(predictions, y_test)\n",
    "print(f\"Mean squared error: {mse:.2f}\\nMean absolute error: {mae:.2f}\")\n",
    "\n",
    "# Tallennetaan saadut arvot\n",
    "models_performance = pd.concat([models_performance, pd.DataFrame({'Model Name': ['XGBoost'], 'MSE': [mse], 'MAE': [mae]})], ignore_index=True)"
   ]
  },
  {
   "cell_type": "markdown",
   "metadata": {},
   "source": [
    "# Optimoidaan NN hyperparametrit ensin satunnaisella haulla"
   ]
  },
  {
   "cell_type": "code",
   "execution_count": null,
   "metadata": {},
   "outputs": [],
   "source": [
    "from sklearn.preprocessing import StandardScaler\n",
    "import tensorflow as tf\n",
    "from tensorflow import keras\n",
    "from kerastuner import RandomSearch\n",
    "from tensorflow.keras.callbacks import ModelCheckpoint\n",
    "\n",
    "models = []\n",
    "\n",
    "# Standardoi ominaisuudet\n",
    "scaler = StandardScaler()\n",
    "X_train_scaled = scaler.fit_transform(X_train)\n",
    "X_test_scaled = scaler.transform(X_test)\n",
    "\n",
    "def build_model(hp):\n",
    "    model = keras.Sequential()\n",
    "    model.add(keras.layers.Input(shape=(X_train_scaled.shape[1],)))\n",
    "    # Määritetään hakuavaruus neuroneiden määrälle \n",
    "    model.add(keras.layers.Dense(units=hp.Int('units_0', min_value=1, max_value=64, step=4), activation='relu'))\n",
    "    model.add(keras.layers.Dense(units=hp.Int('units_1', min_value=1, max_value=64, step=4), activation='relu'))        \n",
    "    model.add(keras.layers.Dense(1, activation='linear'))\n",
    "\n",
    "    model.compile(optimizer=keras.optimizers.Adam(hp.Choice('learning_rate', values=[1e-1, 1e-2, 1e-3])),\n",
    "                  loss='mse')\n",
    "    return model\n",
    "\n",
    "tuner = RandomSearch(\n",
    "    build_model,\n",
    "    objective='val_loss',\n",
    "    max_trials=1,\n",
    "    executions_per_trial=1,\n",
    "    directory='NN_search',\n",
    "    project_name='kt_random')\n",
    "\n",
    "tuner.search(X_train_scaled, y_train, epochs=10, validation_data=(X_test_scaled, y_test))\n",
    "\n",
    "# Hae parasta mallia ja sen hyperparametrit ja opeta verkko näillä uudestaan pidemmällä koulutuksella\n",
    "best_hyperparameters = tuner.get_best_hyperparameters()[0]\n",
    "print(\"Parhaat hyperparametrit:\\n\", best_hyperparameters.values)\n",
    "\n",
    "model_random = build_model(best_hyperparameters)\n",
    "\n",
    "checkpoint_filepath = './NN_search/kt_random/best_model_weights.weights.h5'\n",
    "model_checkpoint_callback = ModelCheckpoint(\n",
    "    filepath=checkpoint_filepath,\n",
    "    save_weights_only=True,\n",
    "    monitor='val_loss',\n",
    "    mode='min',\n",
    "    save_best_only=True)\n",
    "\n",
    "model_random.fit(X_train_scaled, y_train, epochs=50, validation_data=(X_test_scaled, y_test), callbacks=[model_checkpoint_callback])\n",
    "model_random.load_weights(checkpoint_filepath)\n",
    "\n",
    "models.append(model_random)\n",
    "\n",
    "predictions = model_random.predict(X_test_scaled)\n",
    "mse = mean_squared_error(predictions, y_test)\n",
    "mae = mean_absolute_error(predictions, y_test)\n",
    "\n",
    "print(f\"Mean squared error: {mse:.2f}\\nMean absolute error: {mae:.2f}\")\n",
    "\n",
    "# Tallennetaan saadut arvot\n",
    "models_performance = pd.concat([models_performance, pd.DataFrame({'Model Name': ['Neural Network RandomGrid Search'], 'MSE': [mse], 'MAE': [mae]})], ignore_index=True)\n",
    "\n",
    "\n",
    "\n"
   ]
  },
  {
   "cell_type": "markdown",
   "metadata": {},
   "source": [
    "# Optimoidaan NN hyperparametrit käyttäen Bayesilaista optimointia"
   ]
  },
  {
   "cell_type": "code",
   "execution_count": null,
   "metadata": {},
   "outputs": [],
   "source": [
    "from keras_tuner import BayesianOptimization\n",
    "\n",
    "def build_model(hp):\n",
    "    model = keras.Sequential()\n",
    "    model.add(keras.layers.Input(shape=(X_train_scaled.shape[1],)))\n",
    "    # Määritetään hakuavaruus neuroneiden määrälle\n",
    "    model.add(keras.layers.Dense(units=hp.Int('units_0', min_value=1, max_value=64, step=4), activation='relu'))\n",
    "    model.add(keras.layers.Dense(units=hp.Int('units_1', min_value=1, max_value=64, step=4), activation='relu'))        \n",
    "    model.add(keras.layers.Dense(1, activation='linear'))\n",
    "\n",
    "    model.compile(optimizer=keras.optimizers.Adam(hp.Choice('learning_rate', values=[1e-1, 1e-2, 1e-3])),\n",
    "                  loss='mse')\n",
    "    return model\n",
    "\n",
    "\n",
    "tuner = BayesianOptimization(\n",
    "    build_model,\n",
    "    objective='val_loss',\n",
    "    max_trials=1,\n",
    "    executions_per_trial=1,\n",
    "    directory='NN_search',\n",
    "    project_name='intro_kt_bayesian')\n",
    "\n",
    "tuner.search(X_train_scaled, y_train, epochs=10, validation_data=(X_test_scaled, y_test))\n",
    "\n",
    "# Hae parasta mallia ja sen hyperparametrit ja opeta verkko näillä uudestaan pidemmällä koulutuksella\n",
    "best_hyperparameters = tuner.get_best_hyperparameters()[0]\n",
    "print(\"Parhaat hyperparametrit:\\n\", best_hyperparameters.values)\n",
    "\n",
    "model_bayes = build_model(best_hyperparameters)\n",
    "\n",
    "checkpoint_filepath = './NN_search/kt_bayesian/best_model_weights.weights.h5'\n",
    "model_checkpoint_callback = ModelCheckpoint(\n",
    "    filepath=checkpoint_filepath,\n",
    "    save_weights_only=True,\n",
    "    monitor='val_loss',\n",
    "    mode='min',\n",
    "    save_best_only=True)\n",
    "\n",
    "model_bayes.fit(X_train_scaled, y_train, epochs=50, validation_data=(X_test_scaled, y_test), callbacks=[model_checkpoint_callback])\n",
    "model_bayes.load_weights(checkpoint_filepath)\n",
    "models.append(model_bayes)\n",
    "\n",
    "predictions = model_bayes.predict(X_test_scaled)\n",
    "mse = mean_squared_error(predictions, y_test)\n",
    "mae = mean_absolute_error(predictions, y_test)\n",
    "\n",
    "print(f\"Mean squared error: {mse:.2f}\\nMean absolute error: {mae:.2f}\")\n",
    "\n",
    "# Tallennetaan saadut arvot\n",
    "models_performance = pd.concat([models_performance, pd.DataFrame({'Model Name': ['Neural Network Bayes Optimization Search'], 'MSE': [mse], 'MAE': [mae]})], ignore_index=True)\n"
   ]
  },
  {
   "cell_type": "markdown",
   "metadata": {},
   "source": [
    "# Otetaan neuroverkosta viimeinen kerros pois ja testataan tällä XGBoostia näin tulleihin ominaisuusvektoriin ja toteutetaan hypeparametrien satunnaishaku"
   ]
  },
  {
   "cell_type": "code",
   "execution_count": null,
   "metadata": {},
   "outputs": [],
   "source": [
    "model_names = ['RandomGrid Search', 'Bayes Optimization Search']\n",
    "for idx, model in enumerate (models):\n",
    "    print(model)\n",
    "\n",
    "    feature_extractor = tf.keras.Model(inputs=model.inputs, outputs=model.layers[-2].output)\n",
    "    X_train_features = feature_extractor.predict(X_train_scaled)\n",
    "    X_test_features = feature_extractor.predict(X_test_scaled)\n",
    "\n",
    "\n",
    "    xgb = xgboost.XGBRegressor(objective ='reg:squarederror')\n",
    "\n",
    "    param_space = {\n",
    "        'n_estimators': np.arange(1, 500, 10),\n",
    "        'max_depth': np.arange(3, 11),\n",
    "        'learning_rate': [0.1, 0.01, 0.001],\n",
    "        'subsample': [0.8, 0.9, 1.0],\n",
    "        'colsample_bytree': [0.8, 0.9, 1.0],\n",
    "        'gamma': [0, 1, 5],\n",
    "        'reg_alpha': [0, 0.1, 0.5],\n",
    "        'reg_lambda': [1, 1.5, 2] \n",
    "    }\n",
    "\n",
    "    random_search = RandomizedSearchCV(\n",
    "    estimator = xgb,\n",
    "    param_distributions = param_space,\n",
    "    cv = 5,\n",
    "    n_jobs= -2,\n",
    "    n_iter = 1,\n",
    "    verbose = 0\n",
    "    )\n",
    "\n",
    "\n",
    "    random_search.fit(X_train_features, y_train)\n",
    "    best_model = random_search.best_estimator_\n",
    "\n",
    "    # Käytetään parhaita hyperparametrejä\n",
    "    predictions =best_model.predict(X_test_features)\n",
    "\n",
    "    # Tarkastellaan mallin toimivuutta\n",
    "    fig, ax = plt.subplots(figsize = (20,10))\n",
    "    ax.scatter(y_test, predictions, edgecolors=(0, 0, 0))\n",
    "    ax.plot([y_test.min(), y_test.max()], [y_test.min(), y_test.max()], 'k--', lw=4)\n",
    "    ax.set_xlabel('Measured')\n",
    "    ax.set_ylabel('Predicted')\n",
    "    plt.show()\n",
    "\n",
    "    mse = mean_squared_error(predictions, y_test)\n",
    "    mae = mean_absolute_error(predictions, y_test)\n",
    "    print(f\"Mean squared error: {mse:.2f}\\nMean absolute error: {mae:.2f}\")\n",
    "\n",
    "    # Tallennetaan saadut arvot\n",
    "    models_performance = pd.concat([models_performance, pd.DataFrame({'Model Name': [f'XGBoost with Neural Network {model_names[idx]}'], 'MSE': [mse], 'MAE': [mae]})], ignore_index=True)\n"
   ]
  },
  {
   "cell_type": "code",
   "execution_count": null,
   "metadata": {},
   "outputs": [],
   "source": [
    "import seaborn as sns\n",
    "\n",
    "# MSE:n visualisointi eri malleille\n",
    "plt.figure(figsize=(10, 6))\n",
    "sns.barplot(x='Model Name', y='MSE', data=models_performance)\n",
    "plt.title('MSE Comparison among Different Models')\n",
    "plt.ylabel('Mean Squared Error (MSE)')\n",
    "plt.xlabel('Model Name')\n",
    "plt.xticks(rotation=45)\n",
    "plt.show()\n",
    "\n",
    "print(models_performance)\n"
   ]
  }
 ],
 "metadata": {
  "kernelspec": {
   "display_name": "joda",
   "language": "python",
   "name": "python3"
  },
  "language_info": {
   "codemirror_mode": {
    "name": "ipython",
    "version": 3
   },
   "file_extension": ".py",
   "mimetype": "text/x-python",
   "name": "python",
   "nbconvert_exporter": "python",
   "pygments_lexer": "ipython3",
   "version": "3.9.18"
  }
 },
 "nbformat": 4,
 "nbformat_minor": 2
}
