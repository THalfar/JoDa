{
 "cells": [
  {
   "cell_type": "code",
   "execution_count": null,
   "metadata": {},
   "outputs": [],
   "source": [
    "\n",
    "import numpy as np\n",
    "import pandas as pd\n",
    "import matplotlib.pyplot as plt\n",
    "import seaborn as sns\n",
    "\n",
    "\n",
    "# Hakemisto missä data sijaitsee\n",
    "hakemisto = './data/'\n",
    "\n",
    "# Ladataan data pandas dataframeihin. Kyseessä on kurssin repon aineisto Tampereen Airbnb-asunnoista.\n",
    "df_train = pd.read_csv('./data/Tampere_BNB_training_listing.csv')\n",
    "df_test = pd.read_csv('./data/Tampere_BNB_testing_listing.csv')\n",
    "\n"
   ]
  },
  {
   "cell_type": "code",
   "execution_count": null,
   "metadata": {},
   "outputs": [],
   "source": [
    "# Katsellaan miltä data näyttää\n",
    "df_train.info()"
   ]
  },
  {
   "cell_type": "markdown",
   "metadata": {},
   "source": [
    "# Tarkastellaan ja käsitellään 'Kunto' ja 'Kaupunginosa' sarakkeita"
   ]
  },
  {
   "cell_type": "code",
   "execution_count": null,
   "metadata": {},
   "outputs": [],
   "source": [
    "puuttuvat_arvot = df_train.isnull().sum() # Laskee puuttuvat arvot\n",
    "puuttuvat_arvot = puuttuvat_arvot[puuttuvat_arvot > 0] # Otetaan vain ne jossa on puuttuvia arvona \n",
    "print(f\"Puuttuvat arvot:\\n {puuttuvat_arvot}\") # Tulostaa puuttuvat arvot\n",
    "\n",
    "puuttuvat_arvot_prosentteina = (puuttuvat_arvot / len(df_train)) * 100\n",
    "uuttuvat_arvot_prosentteina = puuttuvat_arvot_prosentteina.sort_values() # Järjestellään kasvavaan järjestykseen\n",
    "\n",
    "# Visualisoidaan puuttuvien arvojen prosenttiosuus sarakkeittain\n",
    "sns.set_theme(style=\"whitegrid\")# Säädä kokoa tarpeen mukaan\n",
    "sns.barplot(x=puuttuvat_arvot_prosentteina, y=puuttuvat_arvot_prosentteina.index)\n",
    "plt.title('Puuttuvien arvojen prosenttiosuus sarakkeittain')\n",
    "plt.xlabel('Prosenttiosuus (%)')\n",
    "plt.ylabel('Sarakkeet')\n",
    "plt.show()"
   ]
  },
  {
   "cell_type": "code",
   "execution_count": null,
   "metadata": {},
   "outputs": [],
   "source": [
    "# Täytetään kunto sarakkeen puuttuvat arvot 'Ei tietoa' arvolla ja visualisoidaan sarakkeen arvot\n",
    "df_train['Kunto'] = df_train['Kunto'].fillna('Ei tietoa')\n",
    "df_train['Kunto'].value_counts().plot(kind='bar')"
   ]
  },
  {
   "cell_type": "code",
   "execution_count": null,
   "metadata": {},
   "outputs": [],
   "source": [
    "# Muutetaan lopuksi 'Kunto' sarake kategoriseksi\n",
    "df_train['Kunto'] = df_train['Kunto'].astype('category')\n"
   ]
  },
  {
   "cell_type": "code",
   "execution_count": null,
   "metadata": {},
   "outputs": [],
   "source": [
    "# Tarkastellaan kaupunginosien määrää ja visualisoidaan ne\n",
    "plt.figure(figsize=(20, 5)) \n",
    "df_train['Kaupunginosa'] = df_train['Kaupunginosa'].astype('category')   \n",
    "df_train['Kaupunginosa'].value_counts().plot(kind='bar') "
   ]
  },
  {
   "cell_type": "markdown",
   "metadata": {},
   "source": [
    "Näitä pikkupaikkoja on liikaa ja se on kurjaa. Yhdistetään pikkupaikat yhteen luokkaan. "
   ]
  },
  {
   "cell_type": "code",
   "execution_count": null,
   "metadata": {},
   "outputs": [],
   "source": [
    "plt.figure(figsize=(20, 5)) \n",
    "raja_arvo = 0.01 # Raja-arvo, jolla määritellään pienet ryhmät jotka laitetaan kategoriaan 'Muu'. Tässä tapauksessa 1%\n",
    "maarat = df_train['Kaupunginosa'].value_counts(normalize=True) # Palauttaa arvot prosentteina\n",
    "pienet_ryhmat = maarat[maarat < raja_arvo].index # Otetaan pienet ryhmät\n",
    "df_train['Kaupunginosa'] = df_train['Kaupunginosa'].replace(pienet_ryhmat, 'Muu') # Korvataan pienet ryhmät 'Muu' kategorialla käyttäen edellisen indeksejä\n",
    "df_train['Kaupunginosa'].value_counts().plot(kind='bar')"
   ]
  },
  {
   "cell_type": "code",
   "execution_count": null,
   "metadata": {},
   "outputs": [],
   "source": [
    "# Tarkastetaan vielä lopuksi miltä data näyttää ja onko muutokset onnistuneet\n",
    "df_train.info()"
   ]
  }
 ],
 "metadata": {
  "kernelspec": {
   "display_name": "tf",
   "language": "python",
   "name": "python3"
  },
  "language_info": {
   "codemirror_mode": {
    "name": "ipython",
    "version": 3
   },
   "file_extension": ".py",
   "mimetype": "text/x-python",
   "name": "python",
   "nbconvert_exporter": "python",
   "pygments_lexer": "ipython3",
   "version": "3.9.19"
  }
 },
 "nbformat": 4,
 "nbformat_minor": 2
}
