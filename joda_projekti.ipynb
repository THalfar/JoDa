{
 "cells": [
  {
   "cell_type": "markdown",
   "metadata": {},
   "source": [
    "# JoDa kurssin Tampereen BNB projekti. Regressiomallin toteuttaminen hinnalle käyttäen NAS.\n",
    "Koska en tiedä, pitääkö projekti olla yhdessä Jupyter skriptissä vai ei. Niin teen tähän aika pitkän skriptin joka tekee kaiken. Lisäksi laitan mukaan erilliset Jupyter skriptit joissa hieman paremmin ositeltu eri asiat. \n",
    "Projekti löytyy myös \n",
    "[JoDa kurssin repo](https://github.com/THalfar/JoDa) \n",
    "\n",
    "Tämä on hieman hätiköidysti yhteen tehty, koska sähläämiseni takia oletin dediksen olevan vasta ensi viikolla. Aikaa tähän kyllä käytin huhtikuun alussa paljon, kunnes Kaggle kisa vei mennessään. \n",
    "\n",
    "Alla on erikseen tähän projektiin liittyvät skriptit: \n",
    "\n",
    "- \"tampereBNB_datan_kasittely.ipynb\"  Datan esikäsittely\n",
    " \n",
    "- \"tampere_reg.ipynb\" Itse regressiomalli jossa käytetään NAS ja pyritään eri ositteluiden tuottamien neuroverkkojen toiseksi viimeisen kerroksen ulostuloa käyttää ominaisuuksina XGBoost \n",
    "\n",
    "- \"baseline.ipynb\" Tämä on pohjamalli, joka käyttää XGBoost jotta voin verrata tuloksia siihen. Vaikutti siltä, että käytössä oleva aineisto on liian pieni syväoppimiseen, koska tämä tuotti parhaita tuloksia.\n",
    "\n"
   ]
  },
  {
   "cell_type": "code",
   "execution_count": 47,
   "metadata": {
    "metadata": {}
   },
   "outputs": [],
   "source": [
    "# Tarvittavat kirjastot \n",
    "\n",
    "import numpy as np\n",
    "import pandas as pd\n",
    "import matplotlib.pyplot as plt\n",
    "import os \n",
    "import seaborn as sns\n",
    "from sklearn.model_selection import train_test_split, StratifiedKFold\n",
    "from sklearn.preprocessing import RobustScaler, StandardScaler, MinMaxScaler \n",
    "import optuna\n",
    "import tensorflow as tf\n",
    "from tensorflow import keras\n",
    "from sklearn.metrics import mean_squared_error, r2_score, mean_absolute_error\n",
    "from keras import regularizers, layers, optimizers, initializers\n",
    "from keras.callbacks import EarlyStopping, ReduceLROnPlateau, TerminateOnNaN, ModelCheckpoint\n",
    "import time \n",
    "from optuna.integration import TFKerasPruningCallback\n",
    "import pickle \n",
    "from datetime import timedelta\n",
    "import gc\n",
    "import xgboost as xgb\n",
    "from sklearn.feature_selection import SelectKBest, f_regression, mutual_info_regression\n",
    "import warnings\n",
    "from tensorflow.keras.models import Model\n",
    "from sklearn.model_selection import KFold\n"
   ]
  },
  {
   "cell_type": "code",
   "execution_count": 48,
   "metadata": {
    "metadata": {}
   },
   "outputs": [],
   "source": [
    "# !!! Jos liian ei liian isot tulosteet rasita, kannattaa ottaa nämä mukaan. Itse pidän koko tulosteen katsomisesta, mutta se ei ehkä sovi kaikille.\n",
    "# pd.set_option('display.max_row', None) \n",
    "# pd.set_option('display.max_columns', None) "
   ]
  },
  {
   "cell_type": "markdown",
   "metadata": {},
   "source": [
    "## Datan esikäsittely. \n",
    "\n",
    "Tässä osiossa käsittelen dataa koneoppimisen mallia varten. \n",
    "\n",
    "Käytännössä tämä on \"tampereBNB_datan_kasittely.ipynb\" johon lisätty kommentteja mitä tapahtuu. Osiossa tarkastellaan käytössä olevaa dataa ja siivotaan sitä jatkokäyttöä varten. "
   ]
  },
  {
   "cell_type": "code",
   "execution_count": 49,
   "metadata": {
    "metadata": {}
   },
   "outputs": [],
   "source": [
    "# Luetaan data \n",
    "df_train = pd.read_csv('./data/Tampere_BNB_training_listing.csv')\n",
    "df_test = pd.read_csv('./data/Tampere_BNB_testing_listing.csv')"
   ]
  },
  {
   "cell_type": "code",
   "execution_count": 50,
   "metadata": {
    "metadata": {}
   },
   "outputs": [
    {
     "data": {
      "text/html": [
       "<div>\n",
       "<style scoped>\n",
       "    .dataframe tbody tr th:only-of-type {\n",
       "        vertical-align: middle;\n",
       "    }\n",
       "\n",
       "    .dataframe tbody tr th {\n",
       "        vertical-align: top;\n",
       "    }\n",
       "\n",
       "    .dataframe thead th {\n",
       "        text-align: right;\n",
       "    }\n",
       "</style>\n",
       "<table border=\"1\" class=\"dataframe\">\n",
       "  <thead>\n",
       "    <tr style=\"text-align: right;\">\n",
       "      <th></th>\n",
       "      <th>m2</th>\n",
       "      <th>Rv</th>\n",
       "      <th>Pituusaste</th>\n",
       "      <th>Leveysaste</th>\n",
       "      <th>Hinta</th>\n",
       "    </tr>\n",
       "  </thead>\n",
       "  <tbody>\n",
       "    <tr>\n",
       "      <th>count</th>\n",
       "      <td>1080.000000</td>\n",
       "      <td>1080.000000</td>\n",
       "      <td>1080.000000</td>\n",
       "      <td>1080.000000</td>\n",
       "      <td>1080.000000</td>\n",
       "    </tr>\n",
       "    <tr>\n",
       "      <th>mean</th>\n",
       "      <td>60.947870</td>\n",
       "      <td>1990.896296</td>\n",
       "      <td>23.796642</td>\n",
       "      <td>61.485415</td>\n",
       "      <td>283.833333</td>\n",
       "    </tr>\n",
       "    <tr>\n",
       "      <th>std</th>\n",
       "      <td>28.571568</td>\n",
       "      <td>26.501165</td>\n",
       "      <td>0.102356</td>\n",
       "      <td>0.026275</td>\n",
       "      <td>140.907735</td>\n",
       "    </tr>\n",
       "    <tr>\n",
       "      <th>min</th>\n",
       "      <td>12.000000</td>\n",
       "      <td>1880.000000</td>\n",
       "      <td>23.581308</td>\n",
       "      <td>61.430235</td>\n",
       "      <td>36.000000</td>\n",
       "    </tr>\n",
       "    <tr>\n",
       "      <th>25%</th>\n",
       "      <td>40.500000</td>\n",
       "      <td>1970.000000</td>\n",
       "      <td>23.730274</td>\n",
       "      <td>61.466342</td>\n",
       "      <td>192.000000</td>\n",
       "    </tr>\n",
       "    <tr>\n",
       "      <th>50%</th>\n",
       "      <td>56.500000</td>\n",
       "      <td>1990.000000</td>\n",
       "      <td>23.793908</td>\n",
       "      <td>61.493092</td>\n",
       "      <td>255.000000</td>\n",
       "    </tr>\n",
       "    <tr>\n",
       "      <th>75%</th>\n",
       "      <td>75.000000</td>\n",
       "      <td>2018.000000</td>\n",
       "      <td>23.854114</td>\n",
       "      <td>61.501942</td>\n",
       "      <td>339.000000</td>\n",
       "    </tr>\n",
       "    <tr>\n",
       "      <th>max</th>\n",
       "      <td>259.000000</td>\n",
       "      <td>2024.000000</td>\n",
       "      <td>24.070784</td>\n",
       "      <td>61.627915</td>\n",
       "      <td>1299.000000</td>\n",
       "    </tr>\n",
       "  </tbody>\n",
       "</table>\n",
       "</div>"
      ],
      "text/plain": [
       "                m2           Rv   Pituusaste   Leveysaste        Hinta\n",
       "count  1080.000000  1080.000000  1080.000000  1080.000000  1080.000000\n",
       "mean     60.947870  1990.896296    23.796642    61.485415   283.833333\n",
       "std      28.571568    26.501165     0.102356     0.026275   140.907735\n",
       "min      12.000000  1880.000000    23.581308    61.430235    36.000000\n",
       "25%      40.500000  1970.000000    23.730274    61.466342   192.000000\n",
       "50%      56.500000  1990.000000    23.793908    61.493092   255.000000\n",
       "75%      75.000000  2018.000000    23.854114    61.501942   339.000000\n",
       "max     259.000000  2024.000000    24.070784    61.627915  1299.000000"
      ]
     },
     "execution_count": 50,
     "metadata": {},
     "output_type": "execute_result"
    }
   ],
   "source": [
    "df_train.describe()"
   ]
  },
  {
   "cell_type": "code",
   "execution_count": 51,
   "metadata": {
    "metadata": {}
   },
   "outputs": [
    {
     "data": {
      "text/plain": [
       "Talot.\n",
       "kt    883\n",
       "rt    162\n",
       "ok     35\n",
       "Name: count, dtype: int64"
      ]
     },
     "execution_count": 51,
     "metadata": {},
     "output_type": "execute_result"
    }
   ],
   "source": [
    "df_train.head()\n",
    "df_train['Talot.'].value_counts()"
   ]
  },
  {
   "cell_type": "code",
   "execution_count": 52,
   "metadata": {
    "metadata": {}
   },
   "outputs": [
    {
     "name": "stdout",
     "output_type": "stream",
     "text": [
      "Puuttuvat arvot:\n",
      " Krs       62\n",
      "Kunto    294\n",
      "dtype: int64\n"
     ]
    }
   ],
   "source": [
    "puuttuvat_arvot = df_train.isnull().sum()\n",
    "puuttuvat_arvot = puuttuvat_arvot[puuttuvat_arvot > 0]\n",
    "print(f\"Puuttuvat arvot:\\n {puuttuvat_arvot}\")"
   ]
  },
  {
   "cell_type": "code",
   "execution_count": 53,
   "metadata": {
    "metadata": {}
   },
   "outputs": [
    {
     "name": "stdout",
     "output_type": "stream",
     "text": [
      "Puuttuvat arvot prosentteina:\n",
      " Krs       5.740741\n",
      "Kunto    27.222222\n",
      "dtype: float64\n"
     ]
    }
   ],
   "source": [
    "puuttuvat_arvot_prosentteina = (puuttuvat_arvot / len(df_train)) * 100\n",
    "print(f\"Puuttuvat arvot prosentteina:\\n {puuttuvat_arvot_prosentteina}\")"
   ]
  },
  {
   "cell_type": "code",
   "execution_count": 54,
   "metadata": {
    "metadata": {}
   },
   "outputs": [
    {
     "data": {
      "image/png": "[encoded data removed]",
      "text/plain": [
       "<Figure size 640x480 with 1 Axes>"
      ]
     },
     "metadata": {},
     "output_type": "display_data"
    }
   ],
   "source": [
    "puuttuvat_arvot_prosentteina = puuttuvat_arvot_prosentteina.sort_values() \n",
    "\n",
    "sns.set_theme(style=\"whitegrid\")\n",
    "sns.barplot(x=puuttuvat_arvot_prosentteina, y=puuttuvat_arvot_prosentteina.index)\n",
    "plt.title('Puuttuvien arvojen prosenttiosuus sarakkeittain')\n",
    "plt.xlabel('Prosenttiosuus (%)')\n",
    "plt.ylabel('Sarakkeet')\n",
    "plt.show()"
   ]
  },
  {
   "cell_type": "code",
   "execution_count": 55,
   "metadata": {
    "metadata": {}
   },
   "outputs": [],
   "source": [
    "# Muutetaan Rv sarakkeen tyyppi kokonaisluvuksi\n",
    "df_train['Rv'] = df_train['Rv'].astype(int)"
   ]
  },
  {
   "cell_type": "code",
   "execution_count": 56,
   "metadata": {
    "metadata": {}
   },
   "outputs": [
    {
     "data": {
      "text/plain": [
       "0    2020\n",
       "1    2018\n",
       "2    2020\n",
       "3    1964\n",
       "4    1995\n",
       "Name: Rv, dtype: int64"
      ]
     },
     "execution_count": 56,
     "metadata": {},
     "output_type": "execute_result"
    }
   ],
   "source": [
    "df_train['Rv'].head()"
   ]
  },
  {
   "cell_type": "markdown",
   "metadata": {},
   "source": [
    "Korvataan \"Kunto\" sarakkeen tyhjät arvot \"Ei tietoa\""
   ]
  },
  {
   "cell_type": "code",
   "execution_count": 57,
   "metadata": {
    "metadata": {}
   },
   "outputs": [
    {
     "data": {
      "text/plain": [
       "<Axes: xlabel='Kunto'>"
      ]
     },
     "execution_count": 57,
     "metadata": {},
     "output_type": "execute_result"
    },
    {
     "data": {
      "image/png": "[encoded data removed]",
      "text/plain": [
       "<Figure size 640x480 with 1 Axes>"
      ]
     },
     "metadata": {},
     "output_type": "display_data"
    }
   ],
   "source": [
    "df_train['Kunto'] = df_train['Kunto'].fillna('Ei tietoa')\n",
    "df_train['Kunto'].value_counts().plot(kind='bar')"
   ]
  },
  {
   "cell_type": "code",
   "execution_count": 58,
   "metadata": {
    "metadata": {}
   },
   "outputs": [
    {
     "data": {
      "text/html": [
       "<div>\n",
       "<style scoped>\n",
       "    .dataframe tbody tr th:only-of-type {\n",
       "        vertical-align: middle;\n",
       "    }\n",
       "\n",
       "    .dataframe tbody tr th {\n",
       "        vertical-align: top;\n",
       "    }\n",
       "\n",
       "    .dataframe thead th {\n",
       "        text-align: right;\n",
       "    }\n",
       "</style>\n",
       "<table border=\"1\" class=\"dataframe\">\n",
       "  <thead>\n",
       "    <tr style=\"text-align: right;\">\n",
       "      <th></th>\n",
       "      <th>Kaupunginosa</th>\n",
       "      <th>Huoneisto</th>\n",
       "      <th>Talot.</th>\n",
       "      <th>m2</th>\n",
       "      <th>Rv</th>\n",
       "      <th>Krs</th>\n",
       "      <th>Hissi</th>\n",
       "      <th>Kunto</th>\n",
       "      <th>Asunnon tyyppi</th>\n",
       "      <th>Pituusaste</th>\n",
       "      <th>Leveysaste</th>\n",
       "      <th>Hinta</th>\n",
       "    </tr>\n",
       "  </thead>\n",
       "  <tbody>\n",
       "    <tr>\n",
       "      <th>0</th>\n",
       "      <td>Niemenranta</td>\n",
       "      <td>2h , kt, s, p</td>\n",
       "      <td>kt</td>\n",
       "      <td>50.0</td>\n",
       "      <td>2020</td>\n",
       "      <td>2/6</td>\n",
       "      <td>on</td>\n",
       "      <td>3</td>\n",
       "      <td>Kaksi huonetta</td>\n",
       "      <td>23.696606</td>\n",
       "      <td>61.524269</td>\n",
       "      <td>300</td>\n",
       "    </tr>\n",
       "    <tr>\n",
       "      <th>1</th>\n",
       "      <td>Vuores</td>\n",
       "      <td>1 H + KT</td>\n",
       "      <td>kt</td>\n",
       "      <td>28.0</td>\n",
       "      <td>2018</td>\n",
       "      <td>1/4</td>\n",
       "      <td>on</td>\n",
       "      <td>3</td>\n",
       "      <td>Yksiö</td>\n",
       "      <td>23.804092</td>\n",
       "      <td>61.433185</td>\n",
       "      <td>162</td>\n",
       "    </tr>\n",
       "    <tr>\n",
       "      <th>2</th>\n",
       "      <td>Niemenranta</td>\n",
       "      <td>3 h , kt , s, p</td>\n",
       "      <td>kt</td>\n",
       "      <td>63.0</td>\n",
       "      <td>2020</td>\n",
       "      <td>3/6</td>\n",
       "      <td>on</td>\n",
       "      <td>3</td>\n",
       "      <td>Kolme huonetta</td>\n",
       "      <td>23.696636</td>\n",
       "      <td>61.519368</td>\n",
       "      <td>363</td>\n",
       "    </tr>\n",
       "    <tr>\n",
       "      <th>3</th>\n",
       "      <td>Keskusta</td>\n",
       "      <td>3h+k+vh+kph/wc+...</td>\n",
       "      <td>kt</td>\n",
       "      <td>84.0</td>\n",
       "      <td>1964</td>\n",
       "      <td>5/7</td>\n",
       "      <td>on</td>\n",
       "      <td>0</td>\n",
       "      <td>Kolme huonetta</td>\n",
       "      <td>24.062369</td>\n",
       "      <td>61.463896</td>\n",
       "      <td>483</td>\n",
       "    </tr>\n",
       "    <tr>\n",
       "      <th>4</th>\n",
       "      <td>Hervanta</td>\n",
       "      <td>2 h, kk, s, ph, p</td>\n",
       "      <td>kt</td>\n",
       "      <td>52.0</td>\n",
       "      <td>1995</td>\n",
       "      <td>6/6</td>\n",
       "      <td>on</td>\n",
       "      <td>2</td>\n",
       "      <td>Kaksi huonetta</td>\n",
       "      <td>23.848751</td>\n",
       "      <td>61.446601</td>\n",
       "      <td>174</td>\n",
       "    </tr>\n",
       "  </tbody>\n",
       "</table>\n",
       "</div>"
      ],
      "text/plain": [
       "  Kaupunginosa           Huoneisto Talot.    m2    Rv  Krs Hissi  Kunto  \\\n",
       "0  Niemenranta       2h , kt, s, p     kt  50.0  2020  2/6    on      3   \n",
       "1       Vuores            1 H + KT     kt  28.0  2018  1/4    on      3   \n",
       "2  Niemenranta     3 h , kt , s, p     kt  63.0  2020  3/6    on      3   \n",
       "3     Keskusta  3h+k+vh+kph/wc+...     kt  84.0  1964  5/7    on      0   \n",
       "4     Hervanta   2 h, kk, s, ph, p     kt  52.0  1995  6/6    on      2   \n",
       "\n",
       "   Asunnon tyyppi  Pituusaste  Leveysaste  Hinta  \n",
       "0  Kaksi huonetta   23.696606   61.524269    300  \n",
       "1           Yksiö   23.804092   61.433185    162  \n",
       "2  Kolme huonetta   23.696636   61.519368    363  \n",
       "3  Kolme huonetta   24.062369   61.463896    483  \n",
       "4  Kaksi huonetta   23.848751   61.446601    174  "
      ]
     },
     "execution_count": 58,
     "metadata": {},
     "output_type": "execute_result"
    }
   ],
   "source": [
    "kunto_mappaus = {\n",
    "    'Ei tietoa': 0,\n",
    "    'huono': 1,\n",
    "    'tyyd.': 2,\n",
    "    'hyvä': 3,\n",
    "}\n",
    "df_train['Kunto'] = df_train['Kunto'].map(kunto_mappaus)\n",
    "df_train.head()"
   ]
  },
  {
   "cell_type": "code",
   "execution_count": 59,
   "metadata": {
    "metadata": {}
   },
   "outputs": [
    {
     "data": {
      "text/plain": [
       "Kunto\n",
       "3    641\n",
       "0    294\n",
       "2    130\n",
       "1     15\n",
       "Name: count, dtype: int64"
      ]
     },
     "execution_count": 59,
     "metadata": {},
     "output_type": "execute_result"
    }
   ],
   "source": [
    "df_train['Kunto'].value_counts()   "
   ]
  },
  {
   "cell_type": "code",
   "execution_count": 60,
   "metadata": {
    "metadata": {}
   },
   "outputs": [
    {
     "data": {
      "text/plain": [
       "Hissi\n",
       "on    683\n",
       "ei    397\n",
       "Name: count, dtype: int64"
      ]
     },
     "execution_count": 60,
     "metadata": {},
     "output_type": "execute_result"
    }
   ],
   "source": [
    "df_train['Hissi'].value_counts()"
   ]
  },
  {
   "cell_type": "code",
   "execution_count": 61,
   "metadata": {
    "metadata": {}
   },
   "outputs": [
    {
     "data": {
      "text/plain": [
       "Hissi\n",
       "1    683\n",
       "0    397\n",
       "Name: count, dtype: int64"
      ]
     },
     "execution_count": 61,
     "metadata": {},
     "output_type": "execute_result"
    }
   ],
   "source": [
    "df_train['Hissi'] = df_train['Hissi'].astype('category')\n",
    "df_train['Hissi'] = df_train['Hissi'].cat.codes\n",
    "df_train['Hissi'].value_counts()"
   ]
  },
  {
   "cell_type": "code",
   "execution_count": 62,
   "metadata": {
    "metadata": {}
   },
   "outputs": [
    {
     "data": {
      "text/plain": [
       "Kaupunginosa\n",
       "Hervanta         73\n",
       "Kaleva           62\n",
       "Tammela          59\n",
       "Hervantajärvi    54\n",
       "Keskusta         50\n",
       "                 ..\n",
       "Lintuhytti        1\n",
       "Kalkunvuori       1\n",
       "Ristinarkku       1\n",
       "Sorsapuisto       1\n",
       "Kohmankaari       1\n",
       "Name: count, Length: 94, dtype: int64"
      ]
     },
     "execution_count": 62,
     "metadata": {},
     "output_type": "execute_result"
    }
   ],
   "source": [
    "df_train['Kaupunginosa'].value_counts()"
   ]
  },
  {
   "cell_type": "code",
   "execution_count": 63,
   "metadata": {
    "metadata": {}
   },
   "outputs": [
    {
     "data": {
      "text/plain": [
       "<Axes: xlabel='Kaupunginosa'>"
      ]
     },
     "execution_count": 63,
     "metadata": {},
     "output_type": "execute_result"
    },
    {
     "data": {
      "image/png": "[encoded data removed]",
      "text/plain": [
       "<Figure size 2500x500 with 1 Axes>"
      ]
     },
     "metadata": {},
     "output_type": "display_data"
    }
   ],
   "source": [
    "df_train['Kaupunginosa'] = df_train['Kaupunginosa'].astype('category')   \n",
    "df_train['Kaupunginosa'].value_counts().plot(kind='bar', figsize=(25,5)) "
   ]
  },
  {
   "cell_type": "markdown",
   "metadata": {},
   "source": [
    "Koska kaupunginosia on niin paljon, tein ratkaisun missä liian pienet paikat yhdistetään yhdeksi. Tämä todennäköisesti jälkikäteen mietittynä vähän huono ratkaisu, mutta mennään tällä. "
   ]
  },
  {
   "cell_type": "code",
   "execution_count": 64,
   "metadata": {
    "metadata": {}
   },
   "outputs": [
    {
     "data": {
      "text/plain": [
       "<Axes: xlabel='Kaupunginosa'>"
      ]
     },
     "execution_count": 64,
     "metadata": {},
     "output_type": "execute_result"
    },
    {
     "data": {
      "image/png": "[encoded data removed]",
      "text/plain": [
       "<Figure size 2500x500 with 1 Axes>"
      ]
     },
     "metadata": {},
     "output_type": "display_data"
    }
   ],
   "source": [
    "raja_arvo = 0.01\n",
    "maarat = df_train['Kaupunginosa'].value_counts(normalize=True)\n",
    "pienet_ryhmat = maarat[maarat < raja_arvo].index\n",
    "df_train['Kaupunginosa'] = df_train['Kaupunginosa'].replace(pienet_ryhmat, 'Muu')\n",
    "df_train['Kaupunginosa'].value_counts().plot(kind='bar', figsize= (25,5))"
   ]
  },
  {
   "cell_type": "code",
   "execution_count": 65,
   "metadata": {
    "metadata": {}
   },
   "outputs": [
    {
     "data": {
      "text/plain": [
       "Kaupunginosa\n",
       "Muu              255\n",
       "Hervanta          73\n",
       "Kaleva            62\n",
       "Tammela           59\n",
       "Hervantajärvi     54\n",
       "Keskusta          50\n",
       "Vuores            43\n",
       "Pyynikki          37\n",
       "Hatanpää          35\n",
       "Tesoma            34\n",
       "Amuri             28\n",
       "Linnainmaa        28\n",
       "Lentävänniemi     26\n",
       "Annala            25\n",
       "Härmälänranta     22\n",
       "Niemenranta       21\n",
       "Ratina            19\n",
       "Peltolammi        17\n",
       "Kaukajärvi        17\n",
       "Rahola            16\n",
       "Atala             15\n",
       "Kalkku            14\n",
       "Härmälä           13\n",
       "Haapalinna        13\n",
       "Multisilta        12\n",
       "Takahuhti         12\n",
       "Janka             12\n",
       "Tampella          12\n",
       "Pispala           12\n",
       "Olkahinen         11\n",
       "Ikuri             11\n",
       "Nekala            11\n",
       "Tasanne           11\n",
       "Name: count, dtype: int64"
      ]
     },
     "execution_count": 65,
     "metadata": {},
     "output_type": "execute_result"
    }
   ],
   "source": [
    "df_train['Kaupunginosa'].value_counts()"
   ]
  },
  {
   "cell_type": "code",
   "execution_count": 66,
   "metadata": {
    "metadata": {}
   },
   "outputs": [
    {
     "data": {
      "text/plain": [
       "Kaupunginosa\n",
       "0     255\n",
       "6      73\n",
       "12     62\n",
       "28     59\n",
       "7      54\n",
       "15     50\n",
       "32     43\n",
       "24     37\n",
       "5      35\n",
       "31     34\n",
       "17     28\n",
       "1      28\n",
       "16     26\n",
       "2      25\n",
       "9      22\n",
       "20     21\n",
       "26     19\n",
       "22     17\n",
       "14     17\n",
       "25     16\n",
       "3      15\n",
       "13     14\n",
       "8      13\n",
       "4      13\n",
       "27     12\n",
       "11     12\n",
       "29     12\n",
       "18     12\n",
       "23     12\n",
       "10     11\n",
       "19     11\n",
       "21     11\n",
       "30     11\n",
       "Name: count, dtype: int64"
      ]
     },
     "execution_count": 66,
     "metadata": {},
     "output_type": "execute_result"
    }
   ],
   "source": [
    "df_train['Kaupunginosa'] = df_train['Kaupunginosa'].astype('category')\n",
    "df_train['Kaupunginosa'] = df_train['Kaupunginosa'].cat.codes\n",
    "df_train['Kaupunginosa'].value_counts()"
   ]
  },
  {
   "cell_type": "code",
   "execution_count": 67,
   "metadata": {
    "metadata": {}
   },
   "outputs": [
    {
     "data": {
      "text/plain": [
       "Asunnon tyyppi\n",
       "Kaksi huonetta                463\n",
       "Kolme huonetta                262\n",
       "Yksiö                         204\n",
       "Neljä huonetta tai enemmän    151\n",
       "Name: count, dtype: int64"
      ]
     },
     "execution_count": 67,
     "metadata": {},
     "output_type": "execute_result"
    }
   ],
   "source": [
    "df_train['Asunnon tyyppi'].value_counts()"
   ]
  },
  {
   "cell_type": "code",
   "execution_count": 68,
   "metadata": {
    "metadata": {}
   },
   "outputs": [
    {
     "data": {
      "text/plain": [
       "Asunnon tyyppi\n",
       "2    463\n",
       "3    262\n",
       "1    204\n",
       "4    151\n",
       "Name: count, dtype: int64"
      ]
     },
     "execution_count": 68,
     "metadata": {},
     "output_type": "execute_result"
    }
   ],
   "source": [
    "tyyppimat = {\n",
    "    'Yksiö' : 1,\n",
    "    'Kaksi huonetta' : 2,\n",
    "    'Kolme huonetta' : 3,\n",
    "    'Neljä huonetta tai enemmän' : 4\n",
    "}\n",
    "df_train['Asunnon tyyppi'] = df_train['Asunnon tyyppi'].map(tyyppimat)\n",
    "df_train['Asunnon tyyppi'].value_counts()"
   ]
  },
  {
   "cell_type": "code",
   "execution_count": 69,
   "metadata": {
    "metadata": {}
   },
   "outputs": [
    {
     "data": {
      "text/plain": [
       "Huoneisto\n",
       "2h, kt                34\n",
       "2h+k                  20\n",
       "3h, k, s              19\n",
       "1h, kt                15\n",
       "3h+k+s                14\n",
       "                      ..\n",
       "3h+k+s+las.parv.       1\n",
       "3h+k+psh+s+parv        1\n",
       "1h, avok               1\n",
       "4h, k, 2xkph, s...     1\n",
       "autopaikka             1\n",
       "Name: count, Length: 652, dtype: int64"
      ]
     },
     "execution_count": 69,
     "metadata": {},
     "output_type": "execute_result"
    }
   ],
   "source": [
    "# Tarkastellaan mitä arvoja tämä syönyt \n",
    "df_train['Huoneisto'].value_counts()"
   ]
  },
  {
   "cell_type": "markdown",
   "metadata": {},
   "source": [
    "Alhaalla alan muokkailla \"Huoneisto\" sarakkeen arvoja. Siellä vaikutti olevna paljon epästandartinmukaisia. Tuli hieman harjoiteltua myös regex pitkästä aikaa. "
   ]
  },
  {
   "cell_type": "code",
   "execution_count": 70,
   "metadata": {
    "metadata": {}
   },
   "outputs": [
    {
     "data": {
      "text/plain": [
       "Huoneisto\n",
       "3h,k,s           39\n",
       "2h,kt            37\n",
       "2h,k             35\n",
       "2h,k,s           34\n",
       "1h,kt            26\n",
       "                 ..\n",
       "1h,avok           1\n",
       "4h,k,2xkph,s      1\n",
       "2h,k,kh,vh        1\n",
       "3h,k,kph/wc,l     1\n",
       "autopaikka        1\n",
       "Name: count, Length: 564, dtype: int64"
      ]
     },
     "execution_count": 70,
     "metadata": {},
     "output_type": "execute_result"
    }
   ],
   "source": [
    "df_train['Huoneisto'] = df_train['Huoneisto'].str.lower()\n",
    "df_train['Huoneisto'] = df_train['Huoneisto'].str.replace(' ', '')\n",
    "df_train['Huoneisto'] = df_train['Huoneisto'].str.replace('+', ',')\n",
    "df_train['Huoneisto'] = df_train['Huoneisto'].str.replace('...', \"\")\n",
    "df_train['Huoneisto'].value_counts()\n"
   ]
  },
  {
   "cell_type": "code",
   "execution_count": 71,
   "metadata": {
    "metadata": {}
   },
   "outputs": [
    {
     "data": {
      "text/plain": [
       "Huoneisto\n",
       ",k,s           96\n",
       ",k             66\n",
       ",kt            63\n",
       ",kk            33\n",
       ",k,p           26\n",
       "               ..\n",
       ",avok           1\n",
       ",k,2xkph,s      1\n",
       ",k,kh,vh        1\n",
       ",k,kph,wc,l     1\n",
       "autopaikka      1\n",
       "Name: count, Length: 448, dtype: int64"
      ]
     },
     "execution_count": 71,
     "metadata": {},
     "output_type": "execute_result"
    }
   ],
   "source": [
    "df_train['Huoneisto'] = df_train['Huoneisto'].str.replace('/', ',')\n",
    "df_train['Huoneisto'] = df_train['Huoneisto'].str.replace('[0-9]+h', '', regex=True)\n",
    "df_train['Huoneisto'].value_counts()"
   ]
  },
  {
   "cell_type": "code",
   "execution_count": 72,
   "metadata": {
    "metadata": {}
   },
   "outputs": [
    {
     "data": {
      "text/plain": [
       "Huoneisto\n",
       "k,s            98\n",
       "k              68\n",
       "kt             63\n",
       "kk             33\n",
       "k,p            28\n",
       "               ..\n",
       "k,kh,vh         1\n",
       "k,kph,wc,l      1\n",
       "k,s,kh,wc,p     1\n",
       "k,kph,sauna     1\n",
       "autopaikka      1\n",
       "Name: count, Length: 421, dtype: int64"
      ]
     },
     "execution_count": 72,
     "metadata": {},
     "output_type": "execute_result"
    }
   ],
   "source": [
    "df_train['Huoneisto'] = df_train['Huoneisto'].str.replace('^,', '',regex=True)\n",
    "df_train['Huoneisto'] = df_train['Huoneisto'].str.replace('^[-0-9]+', '',regex=True)\n",
    "df_train['Huoneisto'] = df_train['Huoneisto'].str.replace(',$', '',regex=True)\n",
    "df_train['Huoneisto'] = df_train['Huoneisto'].str.replace('^,', '',regex=True)\n",
    "df_train['Huoneisto'].value_counts()"
   ]
  },
  {
   "cell_type": "code",
   "execution_count": 73,
   "metadata": {
    "metadata": {}
   },
   "outputs": [
    {
     "name": "stdout",
     "output_type": "stream",
     "text": [
      "Unique values: Huoneisto\n",
      "k              654\n",
      "kph            419\n",
      "s              409\n",
      "kt             251\n",
      "kk             139\n",
      "              ... \n",
      "3xwc             1\n",
      "2parveke         1\n",
      "tupakeitti&      1\n",
      "p(lasite         1\n",
      "autopaikka       1\n",
      "Name: count, Length: 155, dtype: int64\n"
     ]
    }
   ],
   "source": [
    "huoneisto_split = df_train['Huoneisto'].str.split(',')\n",
    "exploded = huoneisto_split.explode()\n",
    "# exploded_unique = exploded.nunique()\n",
    "exploded_unique_count = exploded.value_counts()\n",
    "print(f\"Unique values: {exploded_unique_count}\")\n"
   ]
  },
  {
   "cell_type": "markdown",
   "metadata": {},
   "source": [
    "Termeille löytyi wikistä \"yleisesti\" hyväksytyt lyhenteet. Joten yritän näiden mukaisesti epämääräisiä arvoja parsia. Alla on tavoitteena saada erikseen irti eri \"Huoneisto\" sarakkeen termejä omiksi kategoriokseen. "
   ]
  },
  {
   "cell_type": "code",
   "execution_count": 74,
   "metadata": {
    "metadata": {}
   },
   "outputs": [
    {
     "name": "stdout",
     "output_type": "stream",
     "text": [
      "Unique values: Huoneisto\n",
      "k             654\n",
      "kph           451\n",
      "sauna         413\n",
      "kt            251\n",
      "wc            147\n",
      "             ... \n",
      "khp             1\n",
      "erill.w         1\n",
      "ask.h           1\n",
      "kate            1\n",
      "autopaikka      1\n",
      "Name: count, Length: 127, dtype: int64\n"
     ]
    }
   ],
   "source": [
    "# Käytetään wikisivustoa https://fi.wikipedia.org/wiki/Luettelo_asuntokaupassa_k%C3%A4ytett%C3%A4vist%C3%A4_lyhenteist%C3%A4 termeille \n",
    "\n",
    "import re\n",
    "\n",
    "huoneisto_split = df_train['Huoneisto'].str.split(',')\n",
    "\n",
    "huoneisto_split = huoneisto_split.apply(lambda lst: [\"parveke\" if  re.search('^p$|^parv$', item) else item for item in lst])\n",
    "huoneisto_split = huoneisto_split.apply(lambda lst: [\"wc\" if  re.search('^w$', item) else item for item in lst])\n",
    "huoneisto_split = huoneisto_split.apply(lambda lst: [\"sauna\" if  re.search('^s$', item) else item for item in lst])\n",
    "huoneisto_split = huoneisto_split.apply(lambda lst: [\"2wc\" if  re.search('^erill.wc$|^2xwc$', item) else item for item in lst])\n",
    "huoneisto_split = huoneisto_split.apply(lambda lst: [\"kph\" if  re.search('^kh$', item) else item for item in lst])\n",
    "huoneisto_split = huoneisto_split.apply(lambda lst: [\"alkovi\" if  re.search('^alk$', item) else item for item in lst])\n",
    "huoneisto_split = huoneisto_split.apply(lambda lst: [\"lasit\" if  re.search('^l', item) else item for item in lst])\n",
    "huoneisto_split = huoneisto_split.apply(lambda lst: [\"avok\" if  re.search('^avokeitti&#$', item) else item for item in lst])\n",
    "\n",
    "\n",
    "exploded = huoneisto_split.explode()\n",
    "exploded_lkm = exploded.value_counts()\n",
    "print(f\"Unique values: {exploded_lkm}\")"
   ]
  },
  {
   "cell_type": "markdown",
   "metadata": {},
   "source": [
    "Koska jotain kummallisuuksia löytyi, joita oli vain pieni määrä. Korvataan nämä \"määrittämätön\" arvolla"
   ]
  },
  {
   "cell_type": "code",
   "execution_count": 75,
   "metadata": {
    "metadata": {}
   },
   "outputs": [
    {
     "name": "stdout",
     "output_type": "stream",
     "text": [
      "Uniikit arvot values: Huoneisto\n",
      "k                654\n",
      "kph              451\n",
      "sauna            413\n",
      "kt               251\n",
      "wc               147\n",
      "kk               139\n",
      "parveke          136\n",
      "lasit            115\n",
      "vh               100\n",
      "alkovi            36\n",
      "et                32\n",
      "rt                30\n",
      "ph                28\n",
      "khh               18\n",
      "avok              18\n",
      "määrittämätön     15\n",
      "2wc               15\n",
      "oh                11\n",
      "rp                10\n",
      "parvi             10\n",
      "Name: count, dtype: int64\n",
      "Määrä arvot: 20\n"
     ]
    }
   ],
   "source": [
    "minimi_lkm = 10\n",
    "suodatetut_idx = exploded_lkm[exploded_lkm >= minimi_lkm].index\n",
    "suodatettu_lista = huoneisto_split.apply(lambda lst: [item for item in lst if item in suodatetut_idx])\n",
    "suodatettu_lista = suodatettu_lista.apply(lambda lst: [\"määrittämätön\"] if len(lst) == 0 else lst)\n",
    "\n",
    "df_train['Huoneisto'] = suodatettu_lista.apply(lambda lst: ','.join(lst))\n",
    "\n",
    "# Tarkistetaan vielä vähän tymästi, että onko kaikki kunnossa\n",
    "huoneisto_split = df_train['Huoneisto'].str.split(',')\n",
    "exploded = huoneisto_split.explode()\n",
    "exploded_lkm = exploded.value_counts()\n",
    "print(f\"Uniikit arvot values: {exploded_lkm}\")\n",
    "print(f\"Määrä arvot: {exploded_lkm.count()}\")\n"
   ]
  },
  {
   "cell_type": "code",
   "execution_count": 76,
   "metadata": {
    "metadata": {}
   },
   "outputs": [
    {
     "data": {
      "text/plain": [
       "0       kt,sauna,parveke\n",
       "1                     kt\n",
       "2       kt,sauna,parveke\n",
       "3            k,vh,kph,wc\n",
       "4    kk,sauna,ph,parveke\n",
       "Name: Huoneisto, dtype: object"
      ]
     },
     "execution_count": 76,
     "metadata": {},
     "output_type": "execute_result"
    }
   ],
   "source": [
    "df_train['Huoneisto'].head()"
   ]
  },
  {
   "cell_type": "code",
   "execution_count": 77,
   "metadata": {
    "metadata": {}
   },
   "outputs": [
    {
     "name": "stdout",
     "output_type": "stream",
     "text": [
      "(1080, 12)\n",
      "(1080, 32)\n",
      "   Kaupunginosa            Huoneisto Talot.    m2    Rv  Krs  Hissi  Kunto  \\\n",
      "0            20     kt,sauna,parveke     kt  50.0  2020  2/6      1      3   \n",
      "1            32                   kt     kt  28.0  2018  1/4      1      3   \n",
      "2            20     kt,sauna,parveke     kt  63.0  2020  3/6      1      3   \n",
      "3            15          k,vh,kph,wc     kt  84.0  1964  5/7      1      0   \n",
      "4             6  kk,sauna,ph,parveke     kt  52.0  1995  6/6      1      2   \n",
      "\n",
      "   Asunnon tyyppi  Pituusaste  ...  määrittämätön  oh  parveke  parvi  ph  rp  \\\n",
      "0               2   23.696606  ...              0   0        1      0   0   0   \n",
      "1               1   23.804092  ...              0   0        0      0   0   0   \n",
      "2               3   23.696636  ...              0   0        1      0   0   0   \n",
      "3               3   24.062369  ...              0   0        0      0   0   0   \n",
      "4               2   23.848751  ...              0   0        1      0   1   0   \n",
      "\n",
      "   rt  sauna  vh  wc  \n",
      "0   0      1   0   0  \n",
      "1   0      0   0   0  \n",
      "2   0      1   0   0  \n",
      "3   0      0   1   1  \n",
      "4   0      1   0   0  \n",
      "\n",
      "[5 rows x 32 columns]\n"
     ]
    }
   ],
   "source": [
    "print(df_train.shape)\n",
    "# Splitataan 'Huoneisto' -sarake ja muunnetaan se listaksi pilkun perusteella\n",
    "split_data = df_train['Huoneisto'].str.split(',')\n",
    "\n",
    "# Käytetään explode()-metodia muuntaaksemme listan elementit omiksi riveikseen\n",
    "exploded_data = split_data.explode()\n",
    "\n",
    "# Valinnainen: Suodatetaan pois harvinaiset kategoriat ennen one-hot-enkoodausta\n",
    "# value_counts = exploded_data.value_counts()\n",
    "# to_keep = value_counts[value_counts >= 5].index\n",
    "# filtered_data = exploded_data[exploded_data.isin(to_keep)]\n",
    "\n",
    "# Suoritetaan one-hot-enkoodaus\n",
    "one_hot_encoded = pd.get_dummies(exploded_data)\n",
    "\n",
    "# Summataan yhteen samat rivit, koska explode() luo useita rivejä samalle alkuperäiselle indeksille\n",
    "one_hot_summed = one_hot_encoded.groupby(one_hot_encoded.index).sum()\n",
    "\n",
    "# Yhdistetään one-hot-enkoodatut sarakkeet takaisin alkuperäiseen DataFrameen\n",
    "df_train = df_train.join(one_hot_summed)\n",
    "\n",
    "print(df_train.shape)\n",
    "\n",
    "print(df_train.head())\n"
   ]
  },
  {
   "cell_type": "code",
   "execution_count": 78,
   "metadata": {
    "metadata": {}
   },
   "outputs": [
    {
     "data": {
      "text/plain": [
       "Talot.\n",
       "0    883\n",
       "2    162\n",
       "1     35\n",
       "Name: count, dtype: int64"
      ]
     },
     "execution_count": 78,
     "metadata": {},
     "output_type": "execute_result"
    }
   ],
   "source": [
    "df_train[\"Talot.\"].value_counts()\n",
    "df_train[\"Talot.\"] = df_train[\"Talot.\"].astype('category')\n",
    "df_train[\"Talot.\"] = df_train[\"Talot.\"].cat.codes\n",
    "df_train[\"Talot.\"].value_counts()"
   ]
  },
  {
   "cell_type": "code",
   "execution_count": 79,
   "metadata": {
    "metadata": {}
   },
   "outputs": [
    {
     "data": {
      "text/plain": [
       "Krs\n",
       "1/1     83\n",
       "1/2     64\n",
       "2/2     55\n",
       "4/6     38\n",
       "3/5     37\n",
       "        ..\n",
       "4/13     1\n",
       "8/9      1\n",
       "3/9      1\n",
       "1/9      1\n",
       "6/14     1\n",
       "Name: count, Length: 63, dtype: int64"
      ]
     },
     "execution_count": 79,
     "metadata": {},
     "output_type": "execute_result"
    }
   ],
   "source": [
    "df_train[\"Krs\"].value_counts()"
   ]
  },
  {
   "cell_type": "markdown",
   "metadata": {},
   "source": [
    "Päätin korvata puuttuvat arvot 0/0 kerroksella. "
   ]
  },
  {
   "cell_type": "code",
   "execution_count": 80,
   "metadata": {
    "metadata": {}
   },
   "outputs": [],
   "source": [
    "df_train[\"Krs\"].isnull().sum()\n",
    "df_train[\"Krs\"] = df_train[\"Krs\"].fillna(\"0/0\")"
   ]
  },
  {
   "cell_type": "code",
   "execution_count": 81,
   "metadata": {
    "metadata": {}
   },
   "outputs": [
    {
     "data": {
      "text/plain": [
       "0    2/6\n",
       "1    1/4\n",
       "2    3/6\n",
       "3    5/7\n",
       "4    6/6\n",
       "Name: Krs, dtype: object"
      ]
     },
     "execution_count": 81,
     "metadata": {},
     "output_type": "execute_result"
    }
   ],
   "source": [
    "df_train[\"Krs\"] = df_train[\"Krs\"].str.replace('^-', '', regex=True)\n",
    "df_train[\"Krs\"].head()"
   ]
  },
  {
   "cell_type": "code",
   "execution_count": 82,
   "metadata": {
    "metadata": {}
   },
   "outputs": [],
   "source": [
    "kerros_split = df_train[\"Krs\"].str.split('/', expand=True)  \n",
    "df_train[\"kerros\"] = kerros_split[0].astype(int)\n",
    "df_train[\"max_kerros\"] = kerros_split[1].astype(int)    "
   ]
  },
  {
   "cell_type": "code",
   "execution_count": 83,
   "metadata": {
    "metadata": {}
   },
   "outputs": [
    {
     "data": {
      "text/html": [
       "<div>\n",
       "<style scoped>\n",
       "    .dataframe tbody tr th:only-of-type {\n",
       "        vertical-align: middle;\n",
       "    }\n",
       "\n",
       "    .dataframe tbody tr th {\n",
       "        vertical-align: top;\n",
       "    }\n",
       "\n",
       "    .dataframe thead th {\n",
       "        text-align: right;\n",
       "    }\n",
       "</style>\n",
       "<table border=\"1\" class=\"dataframe\">\n",
       "  <thead>\n",
       "    <tr style=\"text-align: right;\">\n",
       "      <th></th>\n",
       "      <th>Kaupunginosa</th>\n",
       "      <th>Huoneisto</th>\n",
       "      <th>Talot.</th>\n",
       "      <th>m2</th>\n",
       "      <th>Rv</th>\n",
       "      <th>Krs</th>\n",
       "      <th>Hissi</th>\n",
       "      <th>Kunto</th>\n",
       "      <th>Asunnon tyyppi</th>\n",
       "      <th>Pituusaste</th>\n",
       "      <th>...</th>\n",
       "      <th>parveke</th>\n",
       "      <th>parvi</th>\n",
       "      <th>ph</th>\n",
       "      <th>rp</th>\n",
       "      <th>rt</th>\n",
       "      <th>sauna</th>\n",
       "      <th>vh</th>\n",
       "      <th>wc</th>\n",
       "      <th>kerros</th>\n",
       "      <th>max_kerros</th>\n",
       "    </tr>\n",
       "  </thead>\n",
       "  <tbody>\n",
       "    <tr>\n",
       "      <th>0</th>\n",
       "      <td>20</td>\n",
       "      <td>kt,sauna,parveke</td>\n",
       "      <td>0</td>\n",
       "      <td>50.0</td>\n",
       "      <td>2020</td>\n",
       "      <td>2/6</td>\n",
       "      <td>1</td>\n",
       "      <td>3</td>\n",
       "      <td>2</td>\n",
       "      <td>23.696606</td>\n",
       "      <td>...</td>\n",
       "      <td>1</td>\n",
       "      <td>0</td>\n",
       "      <td>0</td>\n",
       "      <td>0</td>\n",
       "      <td>0</td>\n",
       "      <td>1</td>\n",
       "      <td>0</td>\n",
       "      <td>0</td>\n",
       "      <td>2</td>\n",
       "      <td>6</td>\n",
       "    </tr>\n",
       "    <tr>\n",
       "      <th>1</th>\n",
       "      <td>32</td>\n",
       "      <td>kt</td>\n",
       "      <td>0</td>\n",
       "      <td>28.0</td>\n",
       "      <td>2018</td>\n",
       "      <td>1/4</td>\n",
       "      <td>1</td>\n",
       "      <td>3</td>\n",
       "      <td>1</td>\n",
       "      <td>23.804092</td>\n",
       "      <td>...</td>\n",
       "      <td>0</td>\n",
       "      <td>0</td>\n",
       "      <td>0</td>\n",
       "      <td>0</td>\n",
       "      <td>0</td>\n",
       "      <td>0</td>\n",
       "      <td>0</td>\n",
       "      <td>0</td>\n",
       "      <td>1</td>\n",
       "      <td>4</td>\n",
       "    </tr>\n",
       "    <tr>\n",
       "      <th>2</th>\n",
       "      <td>20</td>\n",
       "      <td>kt,sauna,parveke</td>\n",
       "      <td>0</td>\n",
       "      <td>63.0</td>\n",
       "      <td>2020</td>\n",
       "      <td>3/6</td>\n",
       "      <td>1</td>\n",
       "      <td>3</td>\n",
       "      <td>3</td>\n",
       "      <td>23.696636</td>\n",
       "      <td>...</td>\n",
       "      <td>1</td>\n",
       "      <td>0</td>\n",
       "      <td>0</td>\n",
       "      <td>0</td>\n",
       "      <td>0</td>\n",
       "      <td>1</td>\n",
       "      <td>0</td>\n",
       "      <td>0</td>\n",
       "      <td>3</td>\n",
       "      <td>6</td>\n",
       "    </tr>\n",
       "    <tr>\n",
       "      <th>3</th>\n",
       "      <td>15</td>\n",
       "      <td>k,vh,kph,wc</td>\n",
       "      <td>0</td>\n",
       "      <td>84.0</td>\n",
       "      <td>1964</td>\n",
       "      <td>5/7</td>\n",
       "      <td>1</td>\n",
       "      <td>0</td>\n",
       "      <td>3</td>\n",
       "      <td>24.062369</td>\n",
       "      <td>...</td>\n",
       "      <td>0</td>\n",
       "      <td>0</td>\n",
       "      <td>0</td>\n",
       "      <td>0</td>\n",
       "      <td>0</td>\n",
       "      <td>0</td>\n",
       "      <td>1</td>\n",
       "      <td>1</td>\n",
       "      <td>5</td>\n",
       "      <td>7</td>\n",
       "    </tr>\n",
       "    <tr>\n",
       "      <th>4</th>\n",
       "      <td>6</td>\n",
       "      <td>kk,sauna,ph,parveke</td>\n",
       "      <td>0</td>\n",
       "      <td>52.0</td>\n",
       "      <td>1995</td>\n",
       "      <td>6/6</td>\n",
       "      <td>1</td>\n",
       "      <td>2</td>\n",
       "      <td>2</td>\n",
       "      <td>23.848751</td>\n",
       "      <td>...</td>\n",
       "      <td>1</td>\n",
       "      <td>0</td>\n",
       "      <td>1</td>\n",
       "      <td>0</td>\n",
       "      <td>0</td>\n",
       "      <td>1</td>\n",
       "      <td>0</td>\n",
       "      <td>0</td>\n",
       "      <td>6</td>\n",
       "      <td>6</td>\n",
       "    </tr>\n",
       "  </tbody>\n",
       "</table>\n",
       "<p>5 rows × 34 columns</p>\n",
       "</div>"
      ],
      "text/plain": [
       "   Kaupunginosa            Huoneisto  Talot.    m2    Rv  Krs  Hissi  Kunto  \\\n",
       "0            20     kt,sauna,parveke       0  50.0  2020  2/6      1      3   \n",
       "1            32                   kt       0  28.0  2018  1/4      1      3   \n",
       "2            20     kt,sauna,parveke       0  63.0  2020  3/6      1      3   \n",
       "3            15          k,vh,kph,wc       0  84.0  1964  5/7      1      0   \n",
       "4             6  kk,sauna,ph,parveke       0  52.0  1995  6/6      1      2   \n",
       "\n",
       "   Asunnon tyyppi  Pituusaste  ...  parveke  parvi  ph  rp  rt  sauna  vh  wc  \\\n",
       "0               2   23.696606  ...        1      0   0   0   0      1   0   0   \n",
       "1               1   23.804092  ...        0      0   0   0   0      0   0   0   \n",
       "2               3   23.696636  ...        1      0   0   0   0      1   0   0   \n",
       "3               3   24.062369  ...        0      0   0   0   0      0   1   1   \n",
       "4               2   23.848751  ...        1      0   1   0   0      1   0   0   \n",
       "\n",
       "   kerros  max_kerros  \n",
       "0       2           6  \n",
       "1       1           4  \n",
       "2       3           6  \n",
       "3       5           7  \n",
       "4       6           6  \n",
       "\n",
       "[5 rows x 34 columns]"
      ]
     },
     "execution_count": 83,
     "metadata": {},
     "output_type": "execute_result"
    }
   ],
   "source": [
    "df_train.head()"
   ]
  },
  {
   "cell_type": "code",
   "execution_count": 84,
   "metadata": {
    "metadata": {}
   },
   "outputs": [
    {
     "name": "stdout",
     "output_type": "stream",
     "text": [
      "<class 'pandas.core.frame.DataFrame'>\n",
      "RangeIndex: 1080 entries, 0 to 1079\n",
      "Data columns (total 34 columns):\n",
      " #   Column          Non-Null Count  Dtype  \n",
      "---  ------          --------------  -----  \n",
      " 0   Kaupunginosa    1080 non-null   int8   \n",
      " 1   Huoneisto       1080 non-null   object \n",
      " 2   Talot.          1080 non-null   int8   \n",
      " 3   m2              1080 non-null   float64\n",
      " 4   Rv              1080 non-null   int64  \n",
      " 5   Krs             1080 non-null   object \n",
      " 6   Hissi           1080 non-null   int8   \n",
      " 7   Kunto           1080 non-null   int64  \n",
      " 8   Asunnon tyyppi  1080 non-null   int64  \n",
      " 9   Pituusaste      1080 non-null   float64\n",
      " 10  Leveysaste      1080 non-null   float64\n",
      " 11  Hinta           1080 non-null   int64  \n",
      " 12  2wc             1080 non-null   int64  \n",
      " 13  alkovi          1080 non-null   int64  \n",
      " 14  avok            1080 non-null   int64  \n",
      " 15  et              1080 non-null   int64  \n",
      " 16  k               1080 non-null   int64  \n",
      " 17  khh             1080 non-null   int64  \n",
      " 18  kk              1080 non-null   int64  \n",
      " 19  kph             1080 non-null   int64  \n",
      " 20  kt              1080 non-null   int64  \n",
      " 21  lasit           1080 non-null   int64  \n",
      " 22  määrittämätön   1080 non-null   int64  \n",
      " 23  oh              1080 non-null   int64  \n",
      " 24  parveke         1080 non-null   int64  \n",
      " 25  parvi           1080 non-null   int64  \n",
      " 26  ph              1080 non-null   int64  \n",
      " 27  rp              1080 non-null   int64  \n",
      " 28  rt              1080 non-null   int64  \n",
      " 29  sauna           1080 non-null   int64  \n",
      " 30  vh              1080 non-null   int64  \n",
      " 31  wc              1080 non-null   int64  \n",
      " 32  kerros          1080 non-null   int64  \n",
      " 33  max_kerros      1080 non-null   int64  \n",
      "dtypes: float64(3), int64(26), int8(3), object(2)\n",
      "memory usage: 264.9+ KB\n"
     ]
    }
   ],
   "source": [
    "df_train.info()"
   ]
  },
  {
   "cell_type": "code",
   "execution_count": 85,
   "metadata": {
    "metadata": {}
   },
   "outputs": [
    {
     "name": "stdout",
     "output_type": "stream",
     "text": [
      "<class 'pandas.core.frame.DataFrame'>\n",
      "RangeIndex: 1080 entries, 0 to 1079\n",
      "Data columns (total 32 columns):\n",
      " #   Column          Non-Null Count  Dtype  \n",
      "---  ------          --------------  -----  \n",
      " 0   Kaupunginosa    1080 non-null   int8   \n",
      " 1   Talot.          1080 non-null   int8   \n",
      " 2   m2              1080 non-null   float64\n",
      " 3   Rv              1080 non-null   int64  \n",
      " 4   Hissi           1080 non-null   int8   \n",
      " 5   Kunto           1080 non-null   int64  \n",
      " 6   Asunnon tyyppi  1080 non-null   int64  \n",
      " 7   Pituusaste      1080 non-null   float64\n",
      " 8   Leveysaste      1080 non-null   float64\n",
      " 9   Hinta           1080 non-null   int64  \n",
      " 10  2wc             1080 non-null   int64  \n",
      " 11  alkovi          1080 non-null   int64  \n",
      " 12  avok            1080 non-null   int64  \n",
      " 13  et              1080 non-null   int64  \n",
      " 14  k               1080 non-null   int64  \n",
      " 15  khh             1080 non-null   int64  \n",
      " 16  kk              1080 non-null   int64  \n",
      " 17  kph             1080 non-null   int64  \n",
      " 18  kt              1080 non-null   int64  \n",
      " 19  lasit           1080 non-null   int64  \n",
      " 20  määrittämätön   1080 non-null   int64  \n",
      " 21  oh              1080 non-null   int64  \n",
      " 22  parveke         1080 non-null   int64  \n",
      " 23  parvi           1080 non-null   int64  \n",
      " 24  ph              1080 non-null   int64  \n",
      " 25  rp              1080 non-null   int64  \n",
      " 26  rt              1080 non-null   int64  \n",
      " 27  sauna           1080 non-null   int64  \n",
      " 28  vh              1080 non-null   int64  \n",
      " 29  wc              1080 non-null   int64  \n",
      " 30  kerros          1080 non-null   int64  \n",
      " 31  max_kerros      1080 non-null   int64  \n",
      "dtypes: float64(3), int64(26), int8(3)\n",
      "memory usage: 248.0 KB\n"
     ]
    }
   ],
   "source": [
    "df_train_filtered = df_train.drop(['Huoneisto', 'Krs'], axis=1)\n",
    "df_train_filtered.info()"
   ]
  },
  {
   "cell_type": "code",
   "execution_count": 86,
   "metadata": {
    "metadata": {}
   },
   "outputs": [],
   "source": [
    "# Kommentoin tämä pois, mutta päätin pitää jatkuvuuden kannalta. Koska tämä yksi skripti vedetään putkeen epäjärjevästi. Olen epävarma, joten parempi ratkaisu että yksi typerä putkiskripti ja sitten eriteltynä miten alunperin tein.\n",
    "# df_train_filtered.to_pickle('./data/df_train_filtered.pkl')"
   ]
  },
  {
   "cell_type": "markdown",
   "metadata": {},
   "source": [
    "## Regressiomalli käyttäen NAS kaikilla opetus/validointi ositteluille ja lopussa XGBoost yhdistämässä näitä "
   ]
  },
  {
   "cell_type": "code",
   "execution_count": 87,
   "metadata": {
    "metadata": {}
   },
   "outputs": [],
   "source": [
    "# Koska Talot. tyyppejä ei ole kovin montaa, niin yhdistetään ne kaupunginosan kanssa jonka mukaan tehdään testi data setti\n",
    "\n",
    "df_train_filtered['combined'] = df_train_filtered[['Kaupunginosa', 'Talot.']].astype(str).agg('-'.join, axis=1)\n",
    "counts = df_train_filtered['combined'].value_counts()\n",
    "df_train_filtered['combined'] = df_train_filtered['combined'].map(lambda x: 'other' if counts[x] < 2 else x)\n",
    "X = df_train_filtered.drop('Hinta', axis=1)\n",
    "y = df_train_filtered['Hinta']\n",
    "\n",
    "# Splitataan data käyttäen yllä olevaa osittelujoukkona. Nyt kun tätä pohdin monen viikon tauon jälkeen, olisi parempi tapa minkä opin Kagglesta. Aikataulusähläyksen takia en nyt uskalla alkaa kokeilee sitä. \n",
    "\n",
    "X_train, X_test, _ , _ = train_test_split(X, y, test_size=0.1, stratify=df_train_filtered['combined'], random_state=42)\n",
    "X_train.drop('combined', axis=1, inplace=True)\n",
    "X_test.drop('combined', axis=1, inplace=True)\n",
    "\n"
   ]
  },
  {
   "cell_type": "markdown",
   "metadata": {},
   "source": [
    "Jos tätä kukaan jaksaa edes lukea ja kiinnostaa, niin aika näppärä osittelutapa:\n",
    "[Kaggle notebook](https://www.kaggle.com/code/awsaf49/planttraits2024-kerascv-starter-notebook?scriptVersionId=161494049&cellId=19)"
   ]
  },
  {
   "cell_type": "code",
   "execution_count": 88,
   "metadata": {
    "metadata": {}
   },
   "outputs": [],
   "source": [
    "# Skaalataan numeeriset muuttujat. Koska koordinaatit ja Rv sekä m2 ei ole mielestäni sellaisia, että pitäisi murehtia train ja test setin välillä vuotaisi tietoa, niin skaalataan ne kaikki yhdessä\n",
    "\n",
    "df_train_NN = df_train_filtered.copy()\n",
    "df_train_NN[['Pituusaste', 'Leveysaste']] = MinMaxScaler().fit_transform(df_train_NN[['Pituusaste', 'Leveysaste']])\n",
    "df_train_NN['Rv'] = MinMaxScaler().fit_transform(df_train_NN[['Rv']])\n",
    "df_train_NN['m2'] = MinMaxScaler().fit_transform(df_train_NN[['m2']])\n",
    "\n",
    "# One hot koodataan kategoriset muuttujat\n",
    "df_hot = pd.get_dummies(df_train_NN['Kaupunginosa'], prefix='Kaupunginosa').astype('int')\n",
    "df_train_NN = pd.concat([df_train_NN, df_hot], axis=1)\n",
    "\n",
    "df_hot = pd.get_dummies(df_train_NN['kerros'], prefix='kerros').astype('int')\n",
    "df_train_NN = pd.concat([df_train_NN, df_hot], axis=1)\n",
    "\n",
    "df_hot = pd.get_dummies(df_train_NN['max_kerros'], prefix='max_kerros').astype('int')\n",
    "df_train_NN = pd.concat([df_train_NN, df_hot], axis=1)\n",
    "\n",
    "df_hot = pd.get_dummies(df_train_NN['Kunto'], prefix='Kunto').astype('int')\n",
    "df_train_NN = pd.concat([df_train_NN, df_hot], axis=1)\n",
    "\n",
    "df_hot = pd.get_dummies(df_train_NN['Hissi'], prefix='Hissi').astype('int')\n",
    "df_train_NN = pd.concat([df_train_NN, df_hot], axis=1)\n",
    "\n",
    "df_hot = pd.get_dummies(df_train_NN['Asunnon tyyppi'], prefix='Asunnon tyyppi').astype('int')\n",
    "df_train_NN = pd.concat([df_train_NN, df_hot], axis=1)\n",
    "\n",
    "df_hot = pd.get_dummies(df_train_NN[\"Talot.\"], prefix='Talot.').astype('int')\n",
    "df_train_NN = pd.concat([df_train_NN, df_hot], axis=1)\n",
    "\n",
    "\n",
    "df_train_NN.drop(['Kaupunginosa', 'kerros', 'max_kerros', 'Kunto', 'Hissi', 'Asunnon tyyppi', \"Talot.\"], axis=1, inplace=True)"
   ]
  },
  {
   "cell_type": "markdown",
   "metadata": {},
   "source": [
    "Tämä on hieman hatara kohta. Muistelen, että oletin tuon random_state asetuksen pakottavan traintest splitin antamaan saman osittelun. Koska tarvitsen lopussa XGBoost mallille alkuperäisen datan, että NN muokatun "
   ]
  },
  {
   "cell_type": "code",
   "execution_count": 89,
   "metadata": {
    "metadata": {}
   },
   "outputs": [],
   "source": [
    "X = df_train_NN.drop('Hinta', axis=1)\n",
    "y = df_train_NN['Hinta']\n",
    "\n",
    "X_train_NN, X_test_NN, y_train, y_test = train_test_split(X, y, test_size=0.1, stratify=df_train_NN['combined'], random_state=42)\n",
    "df_strat = X_train_NN['combined'].reset_index(drop=True)\n",
    "\n",
    "y_test.reset_index(drop=True, inplace=True)\n",
    "y_train.reset_index(drop=True, inplace=True)\n",
    "\n",
    "X_train_NN.drop('combined', axis=1, inplace=True)\n",
    "X_test_NN.drop('combined', axis=1, inplace=True)\n",
    "\n",
    "X_train_NN = X_train_NN.to_numpy().astype('float32')    \n",
    "X_test_NN = X_test_NN.to_numpy().astype('float32')\n",
    "\n",
    "y_train = y_train.to_numpy().astype('float32')\n",
    "y_test = y_test.to_numpy().astype('float32')"
   ]
  },
  {
   "cell_type": "markdown",
   "metadata": {},
   "source": [
    "Alla suoritetaan NAS haku käyttäen Optunaa. "
   ]
  },
  {
   "cell_type": "code",
   "execution_count": 90,
   "metadata": {
    "metadata": {}
   },
   "outputs": [
    {
     "name": "stdout",
     "output_type": "stream",
     "text": [
      "-------------------\n",
      "Starting fold 0 search...\n",
      "Random search for fold 0 with 50 trials...\n"
     ]
    },
    {
     "name": "stderr",
     "output_type": "stream",
     "text": [
      "/tmp/ipykernel_580092/2196782884.py:175: ExperimentalWarning: QMCSampler is experimental (supported from v3.0.0). The interface can change in the future.\n",
      "  QMCs = optuna.samplers.QMCSampler(warn_independent_sampling = False)\n",
      "/home/tobias/miniconda3/envs/tf/lib/python3.9/site-packages/optuna/samplers/_tpe/sampler.py:319: ExperimentalWarning: ``multivariate`` option is an experimental feature. The interface can change in the future.\n",
      "  warnings.warn(\n"
     ]
    },
    {
     "name": "stdout",
     "output_type": "stream",
     "text": [
      "Time taken for random search: 0:02:05.013949\n",
      "TPE search for fold 0 with 50 trials...\n",
      "Time taken for TPE search: 0:03:46.245961\n",
      "-------------------\n",
      "Finished fold 0 search.\n",
      "Time taken for this fold: 0:05:51.260103\n",
      "Fold 0 best value so far: 0.33856630325317383\n",
      "Best parameters so far: {'n_layers': 1, 'n_units_0': 70, 'dropout_0': 0.13135210723619536, 'l1_reg_0': 4.236848593834708e-06, 'l2_reg_0': 2.0664257942790804e-08, 'activation_0': 'selu', 'normalize_0': False, 'optimizer': 'adam', 'batch_size': 17}\n",
      "Mean time for one trial this fold: 0:00:03.512702\n",
      "This fold has made total 180 trials.\n",
      "-------------------\n",
      "Starting fold 1 search...\n",
      "Random search for fold 1 with 50 trials...\n"
     ]
    },
    {
     "name": "stderr",
     "output_type": "stream",
     "text": [
      "/tmp/ipykernel_580092/2196782884.py:175: ExperimentalWarning: QMCSampler is experimental (supported from v3.0.0). The interface can change in the future.\n",
      "  QMCs = optuna.samplers.QMCSampler(warn_independent_sampling = False)\n",
      "/home/tobias/miniconda3/envs/tf/lib/python3.9/site-packages/optuna/samplers/_tpe/sampler.py:319: ExperimentalWarning: ``multivariate`` option is an experimental feature. The interface can change in the future.\n",
      "  warnings.warn(\n"
     ]
    },
    {
     "name": "stdout",
     "output_type": "stream",
     "text": [
      "##################################################\n",
      "New best model found for fold 1 with value 0.2615314722061157\n",
      "Saving model to ./NN_search/502_kiireonomamokaa_1_best.h5\n",
      "##################################################\n",
      "Time taken for random search: 0:02:49.376472\n",
      "TPE search for fold 1 with 50 trials...\n",
      "Time taken for TPE search: 0:03:33.411885\n",
      "-------------------\n",
      "Finished fold 1 search.\n",
      "Time taken for this fold: 0:06:22.788539\n",
      "Fold 1 best value so far: 0.2615314722061157\n",
      "Best parameters so far: {'n_layers': 1, 'n_units_0': 84, 'dropout_0': 0.3359375, 'l1_reg_0': 1.33352143216332e-08, 'l2_reg_0': 2.3713737056616522e-06, 'activation_0': 'selu', 'normalize_0': False, 'optimizer': 'rmsprop', 'batch_size': 24}\n",
      "Mean time for one trial this fold: 0:00:03.827983\n",
      "This fold has made total 180 trials.\n",
      "-------------------\n",
      "Starting fold 2 search...\n",
      "Random search for fold 2 with 50 trials...\n"
     ]
    },
    {
     "name": "stderr",
     "output_type": "stream",
     "text": [
      "/tmp/ipykernel_580092/2196782884.py:175: ExperimentalWarning: QMCSampler is experimental (supported from v3.0.0). The interface can change in the future.\n",
      "  QMCs = optuna.samplers.QMCSampler(warn_independent_sampling = False)\n",
      "/home/tobias/miniconda3/envs/tf/lib/python3.9/site-packages/optuna/samplers/_tpe/sampler.py:319: ExperimentalWarning: ``multivariate`` option is an experimental feature. The interface can change in the future.\n",
      "  warnings.warn(\n"
     ]
    },
    {
     "name": "stdout",
     "output_type": "stream",
     "text": [
      "Time taken for random search: 0:03:19.015035\n",
      "TPE search for fold 2 with 50 trials...\n",
      "Time taken for TPE search: 0:05:13.602239\n",
      "-------------------\n",
      "Finished fold 2 search.\n",
      "Time taken for this fold: 0:08:32.617454\n",
      "Fold 2 best value so far: 0.33208519220352173\n",
      "Best parameters so far: {'n_layers': 2, 'n_units_0': 26, 'dropout_0': 0.421875, 'l1_reg_0': 1.7782794100389193e-06, 'l2_reg_0': 1.7782794100389206e-07, 'activation_0': 'relu', 'normalize_0': False, 'n_units_1': 24, 'dropout_1': 0.453125, 'l1_reg_1': 5.623413251903487e-07, 'l2_reg_1': 0.0005623413251903486, 'activation_1': 'elu', 'normalize_1': False, 'optimizer': 'adam', 'batch_size': 17}\n",
      "Mean time for one trial this fold: 0:00:05.126272\n",
      "This fold has made total 180 trials.\n",
      "-------------------\n",
      "Starting fold 3 search...\n",
      "Random search for fold 3 with 50 trials...\n"
     ]
    },
    {
     "name": "stderr",
     "output_type": "stream",
     "text": [
      "/tmp/ipykernel_580092/2196782884.py:175: ExperimentalWarning: QMCSampler is experimental (supported from v3.0.0). The interface can change in the future.\n",
      "  QMCs = optuna.samplers.QMCSampler(warn_independent_sampling = False)\n",
      "/home/tobias/miniconda3/envs/tf/lib/python3.9/site-packages/optuna/samplers/_tpe/sampler.py:319: ExperimentalWarning: ``multivariate`` option is an experimental feature. The interface can change in the future.\n",
      "  warnings.warn(\n"
     ]
    },
    {
     "name": "stdout",
     "output_type": "stream",
     "text": [
      "##################################################\n",
      "New best model found for fold 3 with value 0.3173049986362457\n",
      "Saving model to ./NN_search/502_kiireonomamokaa_3_best.h5\n",
      "##################################################\n",
      "Time taken for random search: 0:02:30.010522\n",
      "TPE search for fold 3 with 50 trials...\n",
      "Time taken for TPE search: 0:04:07.180578\n",
      "-------------------\n",
      "Finished fold 3 search.\n",
      "Time taken for this fold: 0:06:37.191273\n",
      "Fold 3 best value so far: 0.3173049986362457\n",
      "Best parameters so far: {'n_layers': 2, 'n_units_0': 46, 'dropout_0': 0.09765625, 'l1_reg_0': 4.8696752516586245e-05, 'l2_reg_0': 1.539926526059492e-08, 'activation_0': 'relu', 'normalize_0': False, 'n_units_1': 46, 'dropout_1': 0.26953125, 'l1_reg_1': 4.869675251658625e-08, 'l2_reg_1': 0.0008659643233600645, 'activation_1': 'selu', 'normalize_1': False, 'optimizer': 'rmsprop', 'batch_size': 44}\n",
      "Mean time for one trial this fold: 0:00:03.971992\n",
      "This fold has made total 180 trials.\n",
      "-------------------\n",
      "Starting fold 4 search...\n",
      "Random search for fold 4 with 50 trials...\n"
     ]
    },
    {
     "name": "stderr",
     "output_type": "stream",
     "text": [
      "/tmp/ipykernel_580092/2196782884.py:175: ExperimentalWarning: QMCSampler is experimental (supported from v3.0.0). The interface can change in the future.\n",
      "  QMCs = optuna.samplers.QMCSampler(warn_independent_sampling = False)\n",
      "/home/tobias/miniconda3/envs/tf/lib/python3.9/site-packages/optuna/samplers/_tpe/sampler.py:319: ExperimentalWarning: ``multivariate`` option is an experimental feature. The interface can change in the future.\n",
      "  warnings.warn(\n"
     ]
    },
    {
     "name": "stdout",
     "output_type": "stream",
     "text": [
      "Time taken for random search: 0:02:07.737979\n",
      "TPE search for fold 4 with 50 trials...\n",
      "##################################################\n",
      "New best model found for fold 4 with value 0.31188979744911194\n",
      "Saving model to ./NN_search/502_kiireonomamokaa_4_best.h5\n",
      "##################################################\n",
      "##################################################\n",
      "New best model found for fold 4 with value 0.28601309657096863\n",
      "Saving model to ./NN_search/502_kiireonomamokaa_4_best.h5\n",
      "##################################################\n",
      "Time taken for TPE search: 0:07:57.284381\n",
      "-------------------\n",
      "Finished fold 4 search.\n",
      "Time taken for this fold: 0:10:05.022527\n",
      "Fold 4 best value so far: 0.28601309657096863\n",
      "Best parameters so far: {'n_layers': 1, 'n_units_0': 215, 'dropout_0': 0.1886161415798791, 'l1_reg_0': 2.005964687629932e-06, 'l2_reg_0': 1.4382311393498892e-08, 'activation_0': 'relu', 'normalize_0': False, 'optimizer': 'Nadam', 'batch_size': 18}\n",
      "Mean time for one trial this fold: 0:00:06.050311\n",
      "This fold has made total 180 trials.\n",
      "\n",
      "# Completed search round: 1 #\n",
      "Time taken for all folds this round: 0:37:29.099749\n",
      "Total time taken for search: 0:37:29.100029\n",
      "Made trials this far: 500\n",
      "Current mean time for one trial: 0:00:04.498200\n",
      "\n"
     ]
    }
   ],
   "source": [
    "# Haun nimi\n",
    "study_name = '502_kiireonomamokaa'\n",
    "# Montako osittelua käytettiin\n",
    "folds = 5\n",
    "# Montako epochia kullekin osittelulle\n",
    "epochs_search = 50\n",
    "# Montako satunnaista hakua kieroksella\n",
    "num_random = 50\n",
    "# Montako TPE hakua kieroksella\n",
    "num_tpe = 50\n",
    "\n",
    "# Aika sekuntteina jota hakuun käytetän\n",
    "max_search_time = 3600 * 6\n",
    "\n",
    "# Neuroneiden maksimimäärä \n",
    "max_units_all = 256\n",
    "\n",
    "# Logaritminen virhefunktio joka parempi kuin MSE tai MAE hintaregressioon. Koska NAS tuottaa höpöjä arvoja annetaan näille arvo 1e5 jotta Optuna pysyy kaukana näistä  \n",
    "def rmsle_loss(y_true, y_pred):\n",
    "    penalty = tf.constant(1e5, dtype=tf.float32)\n",
    "    valid_mask = tf.math.greater(y_pred, 0.0)\n",
    "    safe_y_pred = tf.where(valid_mask, y_pred, penalty)\n",
    "    rmsle = tf.sqrt(tf.reduce_mean(tf.square(tf.math.log1p(safe_y_pred) - tf.math.log1p(y_true))))\n",
    "    return tf.where(tf.reduce_any(~valid_mask), penalty, rmsle)\n",
    "\n",
    "custom_objects = {\"rmsle_loss\": rmsle_loss}\n",
    "\n",
    "# TF turhaan itkee asioita joita ei tarvitse tietää\n",
    "warnings.filterwarnings(\"ignore\", category=UserWarning)\n",
    "# Optuna tulostelee myös paljon juttuja ja siitä tulee tuhanisen rivien eepos. Joten otetaan Optunan tulosteet veks\n",
    "optuna.logging.set_verbosity(optuna.logging.WARNING)     \n",
    "\n",
    "\n",
    "\n",
    "def create_model(trial):\n",
    "        \n",
    "    model = keras.Sequential()\n",
    "    model.add(keras.layers.InputLayer(input_shape=(X_train_NN.shape[1],), name = 'input'))\n",
    "    \n",
    "    num_layers = trial.suggest_int('n_layers', 1, 3)\n",
    "    max_units = max_units_all\n",
    "\n",
    "    for i in range(num_layers):\n",
    "        \n",
    "        num_units = trial.suggest_int(f'n_units_{i}', 16, max_units)\n",
    "        dropout_rate = trial.suggest_float(f'dropout_{i}', 0.0, 0.5)\n",
    "        kernel_regularizer = regularizers.l1_l2(\n",
    "            l1= trial.suggest_float(f'l1_reg_{i}', 1e-8, 1, log=True),\n",
    "            l2= trial.suggest_float(f'l2_reg_{i}', 1e-8, 1, log=True)\n",
    "        )\n",
    "        activation = trial.suggest_categorical(f'activation_{i}', ['relu', 'elu', 'LeakyReLU', 'tanh', 'selu', 'swish'])\n",
    "        \n",
    "        model.add(keras.layers.Dense(num_units, activation=activation, kernel_regularizer=kernel_regularizer, name = f'layer_{i}'))\n",
    "\n",
    "        normalize = trial.suggest_categorical(f'normalize_{i}', [True, False])\n",
    "        if normalize:\n",
    "            model.add(keras.layers.BatchNormalization())\n",
    "\n",
    "        model.add(keras.layers.Dropout(rate=dropout_rate))\n",
    "        \n",
    "        # Valitaan näistä pienempi jolla varmistetaan ettei seuraavilla kerroksilla ala olla enemmän neuroneita\n",
    "        max_units = min(max_units, num_units)  \n",
    "    \n",
    "    model.add(keras.layers.Dense(1, activation='linear')) \n",
    "    \n",
    "    # Optimisaattorin ja oppimisnopeuden valinta\n",
    "    optimizer_options = ['adam', 'rmsprop', 'Nadam', 'adamax', 'Adagrad', 'Adadelta']\n",
    "    optimizer_selected = trial.suggest_categorical('optimizer', optimizer_options)\n",
    "    \n",
    "    if optimizer_selected == 'adam':\n",
    "        optimizer = optimizers.Adam()\n",
    "    elif optimizer_selected == 'rmsprop':\n",
    "        optimizer = optimizers.RMSprop()\n",
    "    elif optimizer_selected == 'Nadam':\n",
    "        optimizer = optimizers.Nadam()\n",
    "    elif optimizer_selected == 'Adagrad':\n",
    "        optimizer = optimizers.Adagrad()\n",
    "    elif optimizer_selected == 'Adadelta':\n",
    "        optimizer = optimizers.Adadelta()\n",
    "    else:\n",
    "        optimizer = optimizers.Adamax()\n",
    "\n",
    "    model.compile(optimizer=optimizer, loss=rmsle_loss, metrics=['mse', 'mae'])\n",
    "    \n",
    "    return model\n",
    "\n",
    "\n",
    "# Edellinen toteutus oli typerä, koska se kadotti aina parhaan löydetyn mallin painot. Tässä wrapataan Optunaa varten tuo objective funktio, jotta saadaan talteen paras malli.\n",
    "def get_objective(fold, study_name, study):\n",
    "    \n",
    "    def objective(trial):\n",
    "\n",
    "        # Kerätään roskat. Ehkä ei näin pienissä malleissa ongelma, mutta isommissa NAS hauissa ehdoton juttu\n",
    "        tf.keras.backend.clear_session()\n",
    "        gc.collect()\n",
    "                \n",
    "        \n",
    "        model = create_model(trial)\n",
    "\n",
    "        checkpoint_filepath = f'./NN_search/{study_name}_fold{fold}_checkpoint.h5'\n",
    "\n",
    "        callbacks = [\n",
    "            TFKerasPruningCallback(trial, 'val_loss'),\n",
    "            ReduceLROnPlateau('val_loss', patience=5, factor=0.5, verbose = 0), \n",
    "            TerminateOnNaN(),\n",
    "            ModelCheckpoint(filepath=checkpoint_filepath, monitor='val_loss', save_best_only=True, verbose=0, mode = 'min')\n",
    "        ]\n",
    "\n",
    "        batch_size = trial.suggest_int('batch_size', 16, 128, log=True)    \n",
    "\n",
    "        history = model.fit(X_train_b, y_train_b, epochs=epochs_search, validation_data=(X_val_b, y_val_b), batch_size=batch_size, verbose=0, callbacks=callbacks)\n",
    "        val_loss = np.min(history.history['val_loss'])\n",
    "\n",
    "        # Jos löydetty malli on parempi kuin paras tähän mennessä, niin tallennetaan se\n",
    "        \n",
    "        if trial.number > 0: # Vähän purkkaratkaisu, koska ensimmäisellä trialilla ei ole vielä best_valuea\n",
    "            if val_loss < study.best_value:\n",
    "                model = keras.models.load_model(checkpoint_filepath, custom_objects=custom_objects)\n",
    "                savepath = f'./NN_search/{study_name}_best.h5'\n",
    "                \n",
    "                print('#' * 50)\n",
    "                print(f'New best model found for fold {fold} with value {val_loss}')\n",
    "                print(f'Saving model to {savepath}')\n",
    "                print('#' * 50)\n",
    "                model.save(savepath)\n",
    "        else:\n",
    "            print(f'First trial for fold {fold} completed with value {val_loss}')\n",
    "            model = keras.models.load_model(checkpoint_filepath, custom_objects=custom_objects)\n",
    "            savepath = f'./NN_search/{study_name}_best.h5'\n",
    "            model.save(savepath)\n",
    "\n",
    "        return val_loss\n",
    "\n",
    "    return objective\n",
    "\n",
    "\n",
    "####\n",
    "\n",
    "total_time_start = time.time()  \n",
    "search_time_start = time.time() \n",
    "num_completed_trials = 0\n",
    "search_rounds = 0\n",
    "time_taken = 0\n",
    "\n",
    "while time_taken < max_search_time:\n",
    "        \n",
    "    fold = 0 \n",
    "    time_fold_start = time.time()    \n",
    "    skf =  StratifiedKFold(n_splits=folds, shuffle=True, random_state=42)\n",
    "\n",
    "    stratified_labels = df_strat\n",
    "    \n",
    "    for train_index, val_index in skf.split(X_train_NN, stratified_labels):\n",
    "\n",
    "        print('-------------------')\n",
    "        print(f\"Starting fold {fold} search...\")\n",
    "        X_train_b, X_val_b = X_train_NN[train_index], X_train_NN[val_index]    \n",
    "        y_train_b, y_val_b = y_train[train_index], y_train[val_index]\n",
    "\n",
    "        fold_name = f'{study_name}_{fold}'\n",
    "       \n",
    "        # Jokaiselle foldille on oma study\n",
    "        study = optuna.create_study(direction='minimize',\n",
    "                                    pruner=optuna.pruners.MedianPruner(n_warmup_steps=5, interval_steps=3), # pitää antaa lämmitä, koska testien mukaan kestää pari eepokkia että verkot pääsee jyvälle\n",
    "                                    study_name=fold_name,\n",
    "                                    storage=f'sqlite:///tre_reg.db',\n",
    "                                    load_if_exists=True                                 \n",
    "                                    )\n",
    "        \n",
    "    \n",
    "        fold_time = time.time()    \n",
    "\n",
    "        fold_random = time.time()\n",
    "        # optuna.logging.set_verbosity(optuna.logging.WARNING)     # TODO OTA POIS KUHA TOIMII\n",
    "        QMCs = optuna.samplers.QMCSampler(warn_independent_sampling = False)\n",
    "        TPEs = optuna.samplers.TPESampler(n_startup_trials=0, multivariate=True, warn_independent_sampling = False)\n",
    "\n",
    "        if num_random > 0:   \n",
    "            study.sampler = QMCs\n",
    "            print(f'Random search for fold {fold} with {num_random} trials...')\n",
    "            objective_function = get_objective(fold, fold_name, study)\n",
    "            study.optimize(objective_function, n_trials=num_random)\n",
    "            print(f'Time taken for random search: {str(timedelta(seconds=(time.time() - fold_random)))}')\n",
    "\n",
    "        fold_tpe = time.time()  \n",
    "        if num_tpe > 0:\n",
    "            study.sampler = TPEs\n",
    "            print(f'TPE search for fold {fold} with {num_tpe} trials...')\n",
    "            objective_function = get_objective(fold, fold_name, study)\n",
    "            study.optimize(objective_function, n_trials=num_tpe)\n",
    "            print(f'Time taken for TPE search: {str(timedelta(seconds=(time.time() - fold_tpe)))}')\n",
    "\n",
    "        num_completed_trials += num_random + num_tpe\n",
    "        print('-------------------')\n",
    "        print(f'Finished fold {fold} search.')\n",
    "        print(f\"Time taken for this fold: {str(timedelta(seconds=(time.time() - fold_time)))}\")                \n",
    "        print(f'Fold {fold} best value so far: {study.best_value}')\n",
    "        print(f'Best parameters so far: {study.best_params}')\n",
    "        print(f'Mean time for one trial this fold: {str(timedelta(seconds=(time.time() - fold_time) / (num_random + num_tpe)))}')\n",
    "        print(f'This fold has made total {study.trials_dataframe().shape[0]} trials.')\n",
    "\n",
    "        fold += 1\n",
    "\n",
    "    search_rounds += 1\n",
    "    \n",
    "    time_taken = time.time() - search_time_start\n",
    "    \n",
    "    print(f'\\n# Completed search round: {search_rounds} #')\n",
    "    print(f'Time taken for all folds this round: {str(timedelta(seconds=(time.time() - time_fold_start)))}')\n",
    "    print(f'Total time taken for search: {str(timedelta(seconds=(time.time() - search_time_start)))}')\n",
    "    print(f'Made trials this far: {num_completed_trials}')\n",
    "    print(f\"Current mean time for one trial: {str(timedelta(seconds=(time.time() - search_time_start) / num_completed_trials))}\\n\")\n",
    "\n",
    "\n",
    "\n"
   ]
  },
  {
   "cell_type": "markdown",
   "metadata": {},
   "source": [
    "Nyt meillä on kullekin foldille NAS avulla haettu viisi eri verkkoa. \n",
    "Katsotaan ensin näiden verkkojen virheet \"sanitycheck\" ja sitten jatketaan XGBoost pariin. "
   ]
  },
  {
   "cell_type": "code",
   "execution_count": 91,
   "metadata": {
    "metadata": {}
   },
   "outputs": [
    {
     "name": "stdout",
     "output_type": "stream",
     "text": [
      "Loading model for fold 0 from ./NN_search/502_kiireonomamokaa_0_best.h5\n",
      "Model: \"sequential\"\n",
      "_________________________________________________________________\n",
      " Layer (type)                Output Shape              Param #   \n",
      "=================================================================\n",
      " layer_0 (Dense)             (None, 70)                7140      \n",
      "                                                                 \n",
      " dropout (Dropout)           (None, 70)                0         \n"
     ]
    },
    {
     "name": "stdout",
     "output_type": "stream",
     "text": [
      "                                                                 \n",
      " dense (Dense)               (None, 1)                 71        \n",
      "                                                                 \n",
      "=================================================================\n",
      "Total params: 7,211\n",
      "Trainable params: 7,211\n",
      "Non-trainable params: 0\n",
      "_________________________________________________________________\n",
      "Model for fold 0 evaluation:\n",
      "MSE: 17909.891\n",
      "MAE: 75.392\n",
      "R2: 0.233\n",
      "RMSLE: 0.323\n",
      "----------------------------------------\n",
      "Loading model for fold 1 from ./NN_search/502_kiireonomamokaa_1_best.h5\n",
      "Model: \"sequential\"\n",
      "_________________________________________________________________\n",
      " Layer (type)                Output Shape              Param #   \n",
      "=================================================================\n",
      " layer_0 (Dense)             (None, 84)                8568      \n",
      "                                                                 \n",
      " dropout (Dropout)           (None, 84)                0         \n",
      "                                                                 \n",
      " dense (Dense)               (None, 1)                 85        \n",
      "                                                                 \n",
      "=================================================================\n",
      "Total params: 8,653\n",
      "Trainable params: 8,653\n",
      "Non-trainable params: 0\n",
      "_________________________________________________________________\n",
      "Model for fold 1 evaluation:\n",
      "MSE: 16846.521\n",
      "MAE: 72.609\n",
      "R2: 0.279\n",
      "RMSLE: 0.311\n",
      "----------------------------------------\n",
      "Loading model for fold 2 from ./NN_search/502_kiireonomamokaa_2_best.h5\n",
      "Model: \"sequential\"\n",
      "_________________________________________________________________\n",
      " Layer (type)                Output Shape              Param #   \n",
      "=================================================================\n",
      " layer_0 (Dense)             (None, 26)                2652      \n",
      "                                                                 \n",
      " dropout (Dropout)           (None, 26)                0         \n",
      "                                                                 \n",
      " layer_1 (Dense)             (None, 24)                648       \n",
      "                                                                 \n",
      " dropout_1 (Dropout)         (None, 24)                0         \n",
      "                                                                 \n",
      " dense (Dense)               (None, 1)                 25        \n",
      "                                                                 \n",
      "=================================================================\n",
      "Total params: 3,325\n",
      "Trainable params: 3,325\n",
      "Non-trainable params: 0\n",
      "_________________________________________________________________\n",
      "Model for fold 2 evaluation:\n",
      "MSE: 14177.040\n",
      "MAE: 69.372\n",
      "R2: 0.393\n",
      "RMSLE: 0.285\n",
      "----------------------------------------\n",
      "Loading model for fold 3 from ./NN_search/502_kiireonomamokaa_3_best.h5\n",
      "Model: \"sequential\"\n",
      "_________________________________________________________________\n",
      " Layer (type)                Output Shape              Param #   \n",
      "=================================================================\n",
      " layer_0 (Dense)             (None, 46)                4692      \n",
      "                                                                 \n",
      " dropout (Dropout)           (None, 46)                0         \n",
      "                                                                 \n",
      " layer_1 (Dense)             (None, 46)                2162      \n",
      "                                                                 \n",
      " dropout_1 (Dropout)         (None, 46)                0         \n",
      "                                                                 \n",
      " dense (Dense)               (None, 1)                 47        \n",
      "                                                                 \n",
      "=================================================================\n",
      "Total params: 6,901\n",
      "Trainable params: 6,901\n",
      "Non-trainable params: 0\n",
      "_________________________________________________________________\n",
      "Model for fold 3 evaluation:\n",
      "MSE: 11565.759\n",
      "MAE: 62.312\n",
      "R2: 0.505\n",
      "RMSLE: 0.257\n",
      "----------------------------------------\n",
      "Loading model for fold 4 from ./NN_search/502_kiireonomamokaa_4_best.h5\n",
      "Model: \"sequential\"\n",
      "_________________________________________________________________\n",
      " Layer (type)                Output Shape              Param #   \n",
      "=================================================================\n",
      " layer_0 (Dense)             (None, 215)               21930     \n",
      "                                                                 \n",
      " dropout (Dropout)           (None, 215)               0         \n",
      "                                                                 \n",
      " dense (Dense)               (None, 1)                 216       \n",
      "                                                                 \n",
      "=================================================================\n",
      "Total params: 22,146\n",
      "Trainable params: 22,146\n",
      "Non-trainable params: 0\n",
      "_________________________________________________________________\n",
      "Model for fold 4 evaluation:\n",
      "MSE: 14223.001\n",
      "MAE: 64.664\n",
      "R2: 0.391\n",
      "RMSLE: 0.276\n",
      "----------------------------------------\n"
     ]
    }
   ],
   "source": [
    "def rmsle_score(y_true, y_pred):\n",
    "    return np.sqrt(mean_squared_error(np.log1p(y_true+1), np.log1p(y_pred+1)))\n",
    "\n",
    "best_models = []\n",
    "\n",
    "for fold in range(folds):\n",
    "    \n",
    "    model_savepath = f'./NN_search/{study_name}_{fold}_best.h5'\n",
    "    print(f'Loading model for fold {fold} from {model_savepath}')\n",
    "    model = keras.models.load_model(model_savepath, custom_objects=custom_objects)\n",
    "    best_models.append(model)\n",
    "    model.summary()\n",
    "    predictions = model.predict(X_test_NN, verbose = 0)\n",
    "    mse = mean_squared_error(y_test, predictions)\n",
    "    mae = mean_absolute_error(y_test, predictions)\n",
    "    r2 = r2_score(y_test, predictions)\n",
    "    rmsle = rmsle_score(y_test, predictions)\n",
    "    \n",
    "    print(f'Model for fold {fold} evaluation:')\n",
    "    print(f\"MSE: {mse:.3f}\")\n",
    "    print(f\"MAE: {mae:.3f}\")\n",
    "    print(f\"R2: {r2:.3f}\")\n",
    "    print(f\"RMSLE: {rmsle:.3f}\")\n",
    "    print(\"-\"*40)"
   ]
  },
  {
   "cell_type": "markdown",
   "metadata": {},
   "source": [
    "Huhu! Koodi on kuukausi sitten tehty (29.3) ja ei palaudu hetkessä kaikki mieleen.\n",
    "Hitsi, pahoittelut jos joku tätä sotkua yrittää edes lukea. \n",
    "\n",
    "Ideana oli Optunalla valita ne NAS mallit mistä napataan mukaan XGBoostille featuret. Tästä koko featureryppäästä vielä valitaan scikit-learn SelectKBest mukaisesti parhaat featuret sekä montako niitä otetaan ja Optunan tämänkin optimoi.\n",
    "Setä kyllä ampuu niin tykillä kärpästä :D \n",
    "Muistinkin miksi Kaggle kisa vetäisi mukaansa. Baselinenä toiminut pelkkä XGBoost antoi parempia tuloksia kuin tämä härveli. Data on yksinkertaisesti liian pieni mielestäni syväoppimiseen, ettei oikein ylioppimista voi välttää ja tämä härveli on aivan liian tykki näin pienelle datasetille. \n",
    "Seinän tullessa vastaan, kun mallin tulokset ei edistyneet ja baseline XGBoost oli paras, Kagglen kuvakisa vaan vetäisi mennessään samalla innostuksella mitä Huttusen kisat aikanaan. Itselle myös tärkeä motivaation takia, etten niin saa samaa paloa synteettisten datasettien kanssa, vaikka seuraisivat tarkasti todellisia.  Tämä jäi ,kuten GitHubista näkyy, melkein kuukauden tauolle, kunnes sähläsin dediksen kanssa ja tuli kiirus. \n",
    "Menihän tämä hyvin, sain vuosien tauon jälkeen Kaggle innostuksen takaisin ja sen hirveän koodiblokin murrettua. Vaikka huvittaa kun juuri TE-keskuksen karenssipelon takia ajattelin, että pakko on paras motivaatio päästä takas koodaa näin kurssin kautta. En silloin vaan uskonut, että neuroepätyypillinen epähuomio kun kaikki keskittyminen kiinni Kaggle kisassa tulee vetämään läpäisyn tiukille tai etenkään 4v tauon jälkeen taas Kaggle kisailevani.\n",
    "\n",
    "Olinkin unohtanut tuon ominaisuuksien valinnan joka oli mielestäni ihan fiksua. Pitääkin se napata mukaan Kaggle viritelmääni jossa ei aikataulukiirettä, kuten nyt on oman mokan takia. \n"
   ]
  },
  {
   "cell_type": "code",
   "execution_count": 92,
   "metadata": {
    "metadata": {}
   },
   "outputs": [
    {
     "name": "stdout",
     "output_type": "stream",
     "text": [
      "31/31 [==============================] - 0s 1ms/step\n",
      "4/4 [==============================] - 0s 2ms/step\n",
      "Model 0 has nan values: False\n",
      "31/31 [==============================] - 0s 1ms/step\n",
      "4/4 [==============================] - 0s 2ms/step\n",
      "Model 1 has nan values: False\n",
      "31/31 [==============================] - 0s 1ms/step\n",
      "4/4 [==============================] - 0s 2ms/step\n",
      "Model 2 has nan values: False\n",
      "31/31 [==============================] - 0s 1ms/step\n",
      "4/4 [==============================] - 0s 2ms/step\n",
      "Model 3 has nan values: False\n",
      "31/31 [==============================] - 0s 1ms/step\n",
      "4/4 [==============================] - 0s 1ms/step\n",
      "Model 4 has nan values: False\n",
      "Random sampling 50 trials...\n"
     ]
    },
    {
     "name": "stderr",
     "output_type": "stream",
     "text": [
      "/tmp/ipykernel_580092/3742040314.py:187: ExperimentalWarning: QMCSampler is experimental (supported from v3.0.0). The interface can change in the future.\n",
      "  QMCsampler = optuna.samplers.QMCSampler(warn_independent_sampling = False)\n",
      "/home/tobias/miniconda3/envs/tf/lib/python3.9/site-packages/optuna/samplers/_tpe/sampler.py:319: ExperimentalWarning: ``multivariate`` option is an experimental feature. The interface can change in the future.\n",
      "  warnings.warn(\n"
     ]
    },
    {
     "name": "stdout",
     "output_type": "stream",
     "text": [
      "TPE sampling 50 trials...\n"
     ]
    }
   ],
   "source": [
    "import warnings\n",
    "from tensorflow.keras.models import Model\n",
    "import optuna\n",
    "import xgboost as xgb\n",
    "import numpy as np\n",
    "from sklearn.metrics import mean_squared_error, mean_absolute_error, r2_score\n",
    "import matplotlib.pyplot as plt\n",
    "from datetime import timedelta\n",
    "import time\n",
    "from tensorflow.keras.models import Model\n",
    "import glob\n",
    "from tensorflow.keras.models import load_model\n",
    "from sklearn.feature_selection import SelectKBest, f_regression, mutual_info_regression\n",
    "from sklearn.model_selection import train_test_split, StratifiedKFold\n",
    "import warnings\n",
    "\n",
    "\n",
    "\n",
    "# Montko quasirandom samplea ja montako tpe samplea ja kauanko tätä härveliä pyöritellään \n",
    "num_random = 50\n",
    "num_tpe = 50\n",
    "max_time_xgb = 3600 * 6\n",
    "\n",
    "\n",
    "X_train_features_list = []\n",
    "X_test_features_list = []\n",
    "features_names_list = []\n",
    "\n",
    "for idx, model in enumerate(best_models):\n",
    "    feature_extractor = Model(inputs=model.inputs, outputs=model.layers[-2].output)\n",
    "    X_train_features = feature_extractor.predict(X_train_NN)\n",
    "    X_test_features = feature_extractor.predict(X_test_NN)\n",
    "\n",
    "    has_nan = np.isnan(X_train_features).any() or np.isnan(X_test_features).any()\n",
    "    print(f'Model {idx} has nan values: {has_nan}')\n",
    "    \n",
    "    X_train_features_list.append(X_train_features)\n",
    "    X_test_features_list.append(X_test_features)\n",
    "\n",
    "    num_features = X_train_features.shape[1]\n",
    "    model_feature_names = [f\"model_{idx}_feature_{feature_idx}\" for feature_idx in range(num_features)]\n",
    "    features_names_list.append(model_feature_names)\n",
    "\n",
    "\n",
    "original_feature_names = list(X_train.columns) \n",
    "combined_feature_names = original_feature_names + features_names_list\n",
    "\n",
    "# Yhdistetään ominaisuusvektorit\n",
    "\n",
    "def select_models(X_train_features_list, X_test_features_list, features_names_list, which_models):\n",
    "\n",
    "    X_train_selected = []\n",
    "    X_test_selected = []\n",
    "    selected_names = []\n",
    "\n",
    "    if all(not choosenode for choosenode in which_models):        \n",
    "        X_train_selected = None\n",
    "        X_test_selected = None\n",
    "        selected_names = None\n",
    "\n",
    "    else:\n",
    "        for idx, choosenode in enumerate(which_models):\n",
    "            if choosenode: \n",
    "                X_train_selected.append(X_train_features_list[idx])\n",
    "                X_test_selected.append(X_test_features_list[idx])\n",
    "                selected_names.extend(features_names_list[idx])                \n",
    "            \n",
    "        X_train_selected = np.concatenate(X_train_selected, axis=1)\n",
    "        X_test_selected = np.concatenate(X_test_selected, axis=1)\n",
    "        \n",
    "        \n",
    "    return X_train_selected, X_test_selected, selected_names\n",
    "    \n",
    "\n",
    "X_train_combined = np.concatenate(X_train_features_list, axis=1)\n",
    "X_test_combined = np.concatenate(X_test_features_list, axis=1)\n",
    "\n",
    "X_train_combined = np.concatenate([X_train_combined, X_train], axis=1)   \n",
    "X_test_combined = np.concatenate([X_test_combined, X_test], axis=1)\n",
    "\n",
    "\n",
    "def select_features(X_train_combined, X_test_combined, y_train, combined_feature_names, method, max_feature):\n",
    "    \n",
    "    if method == 'f_regression':\n",
    "        method_function = f_regression\n",
    "    elif method == 'mutual_info_regression':\n",
    "        method_function = mutual_info_regression\n",
    "    else:\n",
    "        method_function = None\n",
    "\n",
    "    if method_function is not None:\n",
    "        selector = SelectKBest(method_function, k=max_feature)\n",
    "        X_train_combined_selected = selector.fit_transform(X_train_combined, y_train)\n",
    "        X_test_combined_selected = selector.transform(X_test_combined)\n",
    "        selected_indices = selector.get_support(indices=True)\n",
    "        selected_features_names = np.array(combined_feature_names)[selected_indices]\n",
    "        selected_features_names = selected_features_names.tolist()\n",
    "        \n",
    "        return X_train_combined_selected, X_test_combined_selected, selected_features_names\n",
    "    else:\n",
    "        return X_train_combined, X_test_combined, combined_feature_names\n",
    "\n",
    "\n",
    "def rmsle(y_true, y_pred):\n",
    "    if np.any(y_pred <= 0):\n",
    "        return 1e6\n",
    "    return np.sqrt(np.mean(np.square(np.log1p(y_pred) - np.log1p(y_true))))\n",
    "\n",
    "\n",
    "\n",
    "\n",
    "def objective(trial):\n",
    "    # Määritetään parametrit, jotka optimoidaan XGBoosrt\n",
    "    param = {\n",
    "        \"booster\": \"dart\",        \n",
    "        'max_depth': trial.suggest_int('max_depth', 1, 6),\n",
    "        \"lambda\": trial.suggest_float(\"lambda\", 1e-4, 1.0, log=True),\n",
    "        \"alpha\": trial.suggest_float(\"alpha\", 1e-4, 1.0, log=True),\n",
    "        'learning_rate': trial.suggest_float('learning_rate', 1e-2, 2, log=True),\n",
    "        'subsample': trial.suggest_float('subsample', 0.2, 1.0),\n",
    "        'colsample_bytree': trial.suggest_float('colsample_bytree', 0.2, 1.0),\n",
    "        'gamma': trial.suggest_float('gamma', 0.1, 42, log = True),     \n",
    "        'nthread' : -2\n",
    "    }\n",
    "\n",
    "    num_boost_round = trial.suggest_int('BRounds', 1, 142)  \n",
    "\n",
    "    # Alla olevat liittyvät ominaisuuksien valitsemiseen. Valitettavasti nyt tämä härveli tukee vaan 5 foldia. Ei aikaa kiire on yöllä, että dynaamisesti tämä foldien mukaan. \n",
    "    selector = trial.suggest_categorical('S', choices = ['f_regression', 'mutual_info_regression', 'None'])\n",
    "    select_0 = trial.suggest_categorical('S0', [True, False])\n",
    "    select_1 = trial.suggest_categorical('S1', [True, False])\n",
    "    select_2 = trial.suggest_categorical('S2', [True, False])\n",
    "    select_3 = trial.suggest_categorical('S3', [True, False])\n",
    "    select_4 = trial.suggest_categorical('S4', [True, False])\n",
    "\n",
    "    X_train_combined_selected, X_test_combined_selected , selected_features_names = select_models(X_train_features_list, X_test_features_list, features_names_list, [select_0, select_1, select_2, select_3, select_4])\n",
    "\n",
    "    if X_train_combined_selected is not None:\n",
    "        combined_feature_names = selected_features_names + original_feature_names\n",
    "        X_train_combined_selected = np.concatenate([X_train_combined_selected, X_train], axis=1)\n",
    "        X_test_combined_selected = np.concatenate([X_test_combined_selected, X_test], axis=1)\n",
    "    else:\n",
    "        X_train_combined_selected = X_train\n",
    "        X_test_combined_selected = X_test\n",
    "        combined_feature_names = original_feature_names\n",
    "\n",
    "\n",
    "    num_selected = trial.suggest_int('N_fea', 1, X_train_combined_selected.shape[1])\n",
    "    X_train_combined_selected, _ , combined_feature_names = select_features(X_train_combined_selected, X_test_combined_selected, y_train, combined_feature_names, selector, num_selected)\n",
    "    # print(f\"Selected features: {combined_feature_names}\")\n",
    "    \n",
    "    \n",
    "    rmsle_scores = []\n",
    "    dtrain_full = xgb.DMatrix(X_train_combined_selected, label=y_train, feature_names=combined_feature_names)\n",
    "\n",
    "    skf =  StratifiedKFold(n_splits=folds, shuffle=True, random_state=42)\n",
    "    stratified_labels = df_strat\n",
    "    for train_index, val_index in skf.split(X_train_NN, stratified_labels):\n",
    "        \n",
    "        dtrain = dtrain_full.slice(train_index)\n",
    "        dval = dtrain_full.slice(val_index)\n",
    "\n",
    "        evals_result = {}\n",
    "        bst = xgb.train(param, dtrain, num_boost_round=num_boost_round, evals=[(dval, 'val')], evals_result=evals_result, verbose_eval=False, early_stopping_rounds=100)\n",
    "        best_iteration = bst.best_iteration\n",
    "        preds = bst.predict(dval, iteration_range=(0, best_iteration + 1))\n",
    "        y_true = y_train[val_index]       \n",
    "        loss = rmsle(y_true, preds)\n",
    "        rmsle_scores.append(loss)\n",
    "\n",
    "    average_rmsle = np.mean(rmsle_scores)\n",
    "    return average_rmsle\n",
    "\n",
    "\n",
    "study = optuna.create_study(direction='minimize',                                \n",
    "                                study_name='XGBoost',\n",
    "                                storage=f'sqlite:///tre_reg.db',\n",
    "                                load_if_exists=True                                 \n",
    "                                )\n",
    "\n",
    "# optuna.logging.set_verbosity(optuna.logging.WARNING)\n",
    "# optuna.logging.set_verbosity(optuna.logging.INFO)\n",
    "\n",
    "\n",
    "time_xgb_start = time.time()\n",
    "\n",
    "QMCsampler = optuna.samplers.QMCSampler(warn_independent_sampling = False)\n",
    "TPEsampler = optuna.samplers.TPESampler(multivariate=True, n_startup_trials=0, warn_independent_sampling = False)\n",
    "\n",
    "# Koulutuslooppi joka kouluttaa XGBoost kunnes aikaraja saavutettu\n",
    "while time.time() - time_xgb_start < max_time_xgb:\n",
    "\n",
    "    \n",
    "    print(f'Random sampling {num_random} trials...')\n",
    "    study.optimize(objective, n_trials=num_random)\n",
    "    study.sampler = QMCsampler    \n",
    "    print(f'TPE sampling {num_tpe} trials...')\n",
    "    study.sampler = TPEsampler\n",
    "    study.optimize(objective, n_trials=num_tpe)\n",
    "    print(f'Best value so far: {study.best_value}')\n",
    "    print(f'Best params so far: {study.best_params}')\n",
    "    \n",
    "    print(f'Time taken so far: {str(timedelta(seconds=(time.time() - time_xgb_start)))}')\n",
    "\n",
    "print(f'Time taken for XGBoost optimization: {str(timedelta(seconds=(time.time() - time_xgb_start)))}')\n",
    "print(f'Time taken for one trial: {str(timedelta(seconds=(time.time() - time_xgb_start) / (num_random + num_tpe)))}')\n",
    "\n",
    "print(f\"Best val: {study.best_trial.value}\")\n",
    "print(f'Best params: {study.best_params}')\n",
    "\n",
    "\n",
    "# Nyt kun malli on valittu, niin voidaan kouluttaa se koko datalla ja testata sitä testidatalla\n",
    "# Alla ensin otetaan Optunan valitsemat mallit jotka tuossa lopun listassa ovat \"päälle/pois\"\n",
    "X_train_combined_selected, X_test_combined_selected , selected_features_names = select_models(X_train_features_list, X_test_features_list, features_names_list, [study.best_params['S0'], study.best_params['S1'], study.best_params['S2'], study.best_params['S3'], study.best_params['S4']])\n",
    "\n",
    "if X_train_combined_selected is not None:\n",
    "    combined_feature_names = selected_features_names + original_feature_names\n",
    "    X_train_combined_selected = np.concatenate([X_train_combined_selected, X_train], axis=1)\n",
    "    X_test_combined_selected = np.concatenate([X_test_combined_selected, X_test], axis=1)\n",
    "else:\n",
    "    X_train_combined_selected = X_train\n",
    "    X_test_combined_selected = X_test\n",
    "    combined_feature_names = original_feature_names\n",
    "\n",
    "# Optuna myös valitsi kuinka monta parasta ominaisuutta napattiin tästä ominausuuskasasta mukaan.\n",
    "X_train_combined_selected, X_test_combined_selected, selected_features_names = select_features(X_train_combined_selected, X_test_combined_selected, y_train, combined_feature_names, study.best_params['S'], study.best_params['N_fea'])\n",
    "\n",
    "dtrain = xgb.DMatrix(X_train_combined_selected, label=y_train, feature_names=selected_features_names)\n",
    "best_model = xgb.train(study.best_params, dtrain, num_boost_round=study.best_params['BRounds'])\n",
    "\n",
    "# Testataan mallia koulutusdatalla jotta voidaan arvioda onko tässä koko hommassa mitään järkeä\n",
    "pred_train = best_model.predict(dtrain)\n",
    "mae_train = mean_absolute_error(y_train, pred_train)\n",
    "mse_train = mean_squared_error(y_train, pred_train)\n",
    "r2_train = r2_score(y_train, pred_train)\n",
    "rmsle_train = rmsle(y_train, pred_train)\n",
    "print(f\"Train MAE: {mae_train}, Train MSE: {mse_train}, Train R2: {r2_train}, Train RMSLE: {rmsle_train}\")\n",
    "\n",
    "# Testataan mallia testidatalla  \n",
    "dtest = xgb.DMatrix(X_test_combined_selected, label=y_test, feature_names=selected_features_names)\n",
    "predictions = best_model.predict(dtest)\n",
    "\n",
    "mse = mean_squared_error(y_test, predictions)\n",
    "mae = mean_absolute_error(y_test, predictions)\n",
    "r2 = r2_score(y_test, predictions)\n",
    "rmsle_val = rmsle(y_test, predictions)\n",
    "print(f\"MAE: {mae}, MSE: {mse}, R2: {r2}, RMSLE: {rmsle_val}\")\n",
    "\n",
    "# Visualisoidaan ennustettuja arvoja verrattuna todellisiin arvoihin\n",
    "plt.figure(figsize=(20, 10))\n",
    "plt.scatter(y_test, predictions, edgecolors=(0, 0, 0))\n",
    "plt.plot([y_test.min(), y_test.max()], [y_test.min(), y_test.max()], 'k--', lw=4)\n",
    "plt.xlabel('Oikeat')\n",
    "plt.ylabel('Ennustetut')\n",
    "plt.title('Oikeat vs Ennustetut')\n",
    "plt.show()\n",
    "\n",
    "# Katsellaan vielä mistä XGBoost oli kiinnostunut\n",
    "fig, ax = plt.subplots(figsize=(20, 30))\n",
    "xgb.plot_importance(best_model, importance_type='weight', ax=ax)\n",
    "ax.set_title('XGBoost ominaisuuksien painoarvot')\n",
    "plt.show()\n",
    "\n",
    "fig, ax = plt.subplots(figsize=(20, 30))\n",
    "xgb.plot_importance(best_model, importance_type='gain', ax=ax)\n",
    "ax.set_title('XGBoost ominaisuuksien saavutusarvot')\n",
    "plt.show()\n",
    "\n",
    "fig, ax = plt.subplots(figsize=(20, 30))\n",
    "xgb.plot_importance(best_model, importance_type='cover', ax=ax)\n",
    "ax.set_title('XGBoost ominaisuuksien peittoarvot')\n",
    "plt.show()\n",
    "\n",
    "\n"
   ]
  }
 ],
 "metadata": {
  "kernelspec": {
   "display_name": "joda",
   "language": "python",
   "name": "python3"
  },
  "language_info": {
   "codemirror_mode": {
    "name": "ipython",
    "version": 3
   },
   "file_extension": ".py",
   "mimetype": "text/x-python",
   "name": "python",
   "nbconvert_exporter": "python",
   "pygments_lexer": "ipython3",
   "version": "3.9.19"
  }
 },
 "nbformat": 4,
 "nbformat_minor": 2
}
