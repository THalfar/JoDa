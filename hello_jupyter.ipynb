{
 "cells": [
  {
   "cell_type": "code",
   "execution_count": 5,
   "metadata": {},
   "outputs": [],
   "source": [
    "import json \n",
    "import os \n",
    "\n",
    "enviroment = {\n",
    "    \"os_environment\" : \"WSL2\",\n",
    "    \"python_version\" : \"3.9.18\",\n",
    "    \"jupyter_environment\" : \"7.0.8\",\n",
    "    \"skill_level\" : \"knowledgeable\"\n",
    "}\n",
    "\n",
    "with open(\"data.json\", \"w\") as f:\n",
    "    json.dump(enviroment, f, indent = 4)"
   ]
  }
 ],
 "metadata": {
  "kernelspec": {
   "display_name": "joda",
   "language": "python",
   "name": "python3"
  },
  "language_info": {
   "codemirror_mode": {
    "name": "ipython",
    "version": 3
   },
   "file_extension": ".py",
   "mimetype": "text/x-python",
   "name": "python",
   "nbconvert_exporter": "python",
   "pygments_lexer": "ipython3",
   "version": "3.9.18"
  }
 },
 "nbformat": 4,
 "nbformat_minor": 2
}
