{
 "cells": [
  {
   "cell_type": "code",
   "execution_count": 5,
   "metadata": {},
   "outputs": [],
   "source": [
    "import json \n",
    "import os \n",
    "\n",
    "enviroment = {\n",
    "    \"os_environment\" : \"WSL2\",\n",
    "    \"python_version\" : \"3.9.18\",\n",
    "    \"jupyter_environment\" : \"7.0.8\",\n",
    "    \"skill_level\" : \"knowledgeable\"\n",
    "}\n",
    "\n",
    "with open(\"data.json\", \"w\") as f:\n",
    "    json.dump(enviroment, f, indent = 4)"
   ]
  },
  {
   "cell_type": "markdown",
   "metadata": {},
   "source": [
    "Oma suositukseni on oppia alusta lähtien käyttämään Linux datatieteilyssä ja koneoppimisessa. Syy tälle on, että syväoppimisen kirjastot kuten Tensoflow ja PyTorch toimivuus on rajoittunutta Windowsilla. Myös Linux käyttö on datatieteilijän perustaito joka tulee eteen työelämässä. Totuttelemalla alussa Linux käyttöön ei tarvitse pidemmälle edetessä enää tuskailla asian kanssa. WSL2(Windows Subsystem for Linux) tarjoaa mukavan tavan käyttää tutulla Windowsilla Linux ympäristöä datatieteilyyn. \n",
    "\n",
    "Vaikka Linuxin oppimiskäyrä voi alussa vaikuttaa jyrkältä, sen hallinta avaa oven monille mahdollisuuksille datatieteessä ja koneoppimisessa. Linux-yhteisö on valtava ja tukee oppimisprosessia runsaalla opetusmateriaalilla ja resursseilla. Rohkaisen tarttumaan haasteeseen – se on investointi tulevaisuuteesi.\n",
    "\n",
    "[Ohjeet WSL2 käyttöönottoon](https://learn.microsoft.com/en-us/windows/wsl/install)"
   ]
  }
 ],
 "metadata": {
  "kernelspec": {
   "display_name": "joda",
   "language": "python",
   "name": "python3"
  },
  "language_info": {
   "codemirror_mode": {
    "name": "ipython",
    "version": 3
   },
   "file_extension": ".py",
   "mimetype": "text/x-python",
   "name": "python",
   "nbconvert_exporter": "python",
   "pygments_lexer": "ipython3",
   "version": "3.9.18"
  }
 },
 "nbformat": 4,
 "nbformat_minor": 2
}
